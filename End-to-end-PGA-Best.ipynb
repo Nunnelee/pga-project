{
 "cells": [
  {
   "cell_type": "markdown",
   "metadata": {},
   "source": [
    "# Project identifying what game factors determine the Best PGA wins and Top_10 finishes from 2010 to 2018\n",
    "In this notebook, we're going to create a machine learning model that predicts which game factors on the PGA tour is most desirable for winning, utilizing criteria from Kaggle's PGA tour data.\n",
    "## 1. Problem definition:\n",
    "What are the most important game factors for PGA tour Wins and Top_10 finishes.\n",
    "## 2. Data:\n",
    "The data is downloaded from Kaggle: https://www.kaggle.com/jmpark746/pga-tour-data-2010-2018\n",
    "## 3. Evaluation:\n",
    "The evaluation metric will be determined by the model evaluating the best feature importances.\n",
    "## 4. Features:\n",
    "Kaggle provides a data list of 18 columns for data (see the link above)"
   ]
  },
  {
   "cell_type": "code",
   "execution_count": 271,
   "metadata": {},
   "outputs": [],
   "source": [
    "import pandas as pd\n",
    "import numpy as np\n",
    "import matplotlib.pyplot as plt\n",
    "import sklearn"
   ]
  },
  {
   "cell_type": "code",
   "execution_count": 272,
   "metadata": {},
   "outputs": [],
   "source": [
    "# Import data for project\n",
    "df = pd.read_csv('pgaTourData.csv')"
   ]
  },
  {
   "cell_type": "code",
   "execution_count": 273,
   "metadata": {
    "scrolled": true
   },
   "outputs": [
    {
     "name": "stdout",
     "output_type": "stream",
     "text": [
      "<class 'pandas.core.frame.DataFrame'>\n",
      "RangeIndex: 2312 entries, 0 to 2311\n",
      "Data columns (total 18 columns):\n",
      " #   Column              Non-Null Count  Dtype  \n",
      "---  ------              --------------  -----  \n",
      " 0   Player Name         2312 non-null   object \n",
      " 1   Rounds              1678 non-null   float64\n",
      " 2   Fairway Percentage  1678 non-null   float64\n",
      " 3   Year                2312 non-null   int64  \n",
      " 4   Avg Distance        1678 non-null   float64\n",
      " 5   gir                 1678 non-null   float64\n",
      " 6   Average Putts       1678 non-null   float64\n",
      " 7   Average Scrambling  1678 non-null   float64\n",
      " 8   Average Score       1678 non-null   float64\n",
      " 9   Points              2296 non-null   object \n",
      " 10  Wins                293 non-null    float64\n",
      " 11  Top 10              1458 non-null   float64\n",
      " 12  Average SG Putts    1678 non-null   float64\n",
      " 13  Average SG Total    1678 non-null   float64\n",
      " 14  SG:OTT              1678 non-null   float64\n",
      " 15  SG:APR              1678 non-null   float64\n",
      " 16  SG:ARG              1678 non-null   float64\n",
      " 17  Money               2300 non-null   object \n",
      "dtypes: float64(14), int64(1), object(3)\n",
      "memory usage: 325.2+ KB\n"
     ]
    }
   ],
   "source": [
    "df.info()"
   ]
  },
  {
   "cell_type": "code",
   "execution_count": 274,
   "metadata": {},
   "outputs": [
    {
     "data": {
      "text/plain": [
       "Player Name              0\n",
       "Rounds                 634\n",
       "Fairway Percentage     634\n",
       "Year                     0\n",
       "Avg Distance           634\n",
       "gir                    634\n",
       "Average Putts          634\n",
       "Average Scrambling     634\n",
       "Average Score          634\n",
       "Points                  16\n",
       "Wins                  2019\n",
       "Top 10                 854\n",
       "Average SG Putts       634\n",
       "Average SG Total       634\n",
       "SG:OTT                 634\n",
       "SG:APR                 634\n",
       "SG:ARG                 634\n",
       "Money                   12\n",
       "dtype: int64"
      ]
     },
     "execution_count": 274,
     "metadata": {},
     "output_type": "execute_result"
    }
   ],
   "source": [
    "df.isna().sum()"
   ]
  },
  {
   "cell_type": "code",
   "execution_count": 275,
   "metadata": {},
   "outputs": [
    {
     "data": {
      "text/plain": [
       "Index(['Player Name', 'Rounds', 'Fairway Percentage', 'Year', 'Avg Distance',\n",
       "       'gir', 'Average Putts', 'Average Scrambling', 'Average Score', 'Points',\n",
       "       'Wins', 'Top 10', 'Average SG Putts', 'Average SG Total', 'SG:OTT',\n",
       "       'SG:APR', 'SG:ARG', 'Money'],\n",
       "      dtype='object')"
      ]
     },
     "execution_count": 275,
     "metadata": {},
     "output_type": "execute_result"
    }
   ],
   "source": [
    "df.columns"
   ]
  },
  {
   "cell_type": "code",
   "execution_count": 276,
   "metadata": {},
   "outputs": [
    {
     "data": {
      "text/html": [
       "<div>\n",
       "<style scoped>\n",
       "    .dataframe tbody tr th:only-of-type {\n",
       "        vertical-align: middle;\n",
       "    }\n",
       "\n",
       "    .dataframe tbody tr th {\n",
       "        vertical-align: top;\n",
       "    }\n",
       "\n",
       "    .dataframe thead th {\n",
       "        text-align: right;\n",
       "    }\n",
       "</style>\n",
       "<table border=\"1\" class=\"dataframe\">\n",
       "  <thead>\n",
       "    <tr style=\"text-align: right;\">\n",
       "      <th></th>\n",
       "      <th>0</th>\n",
       "      <th>1</th>\n",
       "      <th>2</th>\n",
       "      <th>3</th>\n",
       "      <th>4</th>\n",
       "    </tr>\n",
       "  </thead>\n",
       "  <tbody>\n",
       "    <tr>\n",
       "      <th>Player Name</th>\n",
       "      <td>Henrik Stenson</td>\n",
       "      <td>Ryan Armour</td>\n",
       "      <td>Chez Reavie</td>\n",
       "      <td>Ryan Moore</td>\n",
       "      <td>Brian Stuard</td>\n",
       "    </tr>\n",
       "    <tr>\n",
       "      <th>Rounds</th>\n",
       "      <td>60</td>\n",
       "      <td>109</td>\n",
       "      <td>93</td>\n",
       "      <td>78</td>\n",
       "      <td>103</td>\n",
       "    </tr>\n",
       "    <tr>\n",
       "      <th>Fairway Percentage</th>\n",
       "      <td>75.19</td>\n",
       "      <td>73.58</td>\n",
       "      <td>72.24</td>\n",
       "      <td>71.94</td>\n",
       "      <td>71.44</td>\n",
       "    </tr>\n",
       "    <tr>\n",
       "      <th>Year</th>\n",
       "      <td>2018</td>\n",
       "      <td>2018</td>\n",
       "      <td>2018</td>\n",
       "      <td>2018</td>\n",
       "      <td>2018</td>\n",
       "    </tr>\n",
       "    <tr>\n",
       "      <th>Avg Distance</th>\n",
       "      <td>291.5</td>\n",
       "      <td>283.5</td>\n",
       "      <td>286.5</td>\n",
       "      <td>289.2</td>\n",
       "      <td>278.9</td>\n",
       "    </tr>\n",
       "    <tr>\n",
       "      <th>gir</th>\n",
       "      <td>73.51</td>\n",
       "      <td>68.22</td>\n",
       "      <td>68.67</td>\n",
       "      <td>68.8</td>\n",
       "      <td>67.12</td>\n",
       "    </tr>\n",
       "    <tr>\n",
       "      <th>Average Putts</th>\n",
       "      <td>29.93</td>\n",
       "      <td>29.31</td>\n",
       "      <td>29.12</td>\n",
       "      <td>29.17</td>\n",
       "      <td>29.11</td>\n",
       "    </tr>\n",
       "    <tr>\n",
       "      <th>Average Scrambling</th>\n",
       "      <td>60.67</td>\n",
       "      <td>60.13</td>\n",
       "      <td>62.27</td>\n",
       "      <td>64.16</td>\n",
       "      <td>59.23</td>\n",
       "    </tr>\n",
       "    <tr>\n",
       "      <th>Average Score</th>\n",
       "      <td>69.617</td>\n",
       "      <td>70.758</td>\n",
       "      <td>70.432</td>\n",
       "      <td>70.015</td>\n",
       "      <td>71.038</td>\n",
       "    </tr>\n",
       "    <tr>\n",
       "      <th>Points</th>\n",
       "      <td>868</td>\n",
       "      <td>1,006</td>\n",
       "      <td>1,020</td>\n",
       "      <td>795</td>\n",
       "      <td>421</td>\n",
       "    </tr>\n",
       "    <tr>\n",
       "      <th>Wins</th>\n",
       "      <td>NaN</td>\n",
       "      <td>1</td>\n",
       "      <td>NaN</td>\n",
       "      <td>NaN</td>\n",
       "      <td>NaN</td>\n",
       "    </tr>\n",
       "    <tr>\n",
       "      <th>Top 10</th>\n",
       "      <td>5</td>\n",
       "      <td>3</td>\n",
       "      <td>3</td>\n",
       "      <td>5</td>\n",
       "      <td>3</td>\n",
       "    </tr>\n",
       "    <tr>\n",
       "      <th>Average SG Putts</th>\n",
       "      <td>-0.207</td>\n",
       "      <td>-0.058</td>\n",
       "      <td>0.192</td>\n",
       "      <td>-0.271</td>\n",
       "      <td>0.164</td>\n",
       "    </tr>\n",
       "    <tr>\n",
       "      <th>Average SG Total</th>\n",
       "      <td>1.153</td>\n",
       "      <td>0.337</td>\n",
       "      <td>0.674</td>\n",
       "      <td>0.941</td>\n",
       "      <td>0.062</td>\n",
       "    </tr>\n",
       "    <tr>\n",
       "      <th>SG:OTT</th>\n",
       "      <td>0.427</td>\n",
       "      <td>-0.012</td>\n",
       "      <td>0.183</td>\n",
       "      <td>0.406</td>\n",
       "      <td>-0.227</td>\n",
       "    </tr>\n",
       "    <tr>\n",
       "      <th>SG:APR</th>\n",
       "      <td>0.96</td>\n",
       "      <td>0.213</td>\n",
       "      <td>0.437</td>\n",
       "      <td>0.532</td>\n",
       "      <td>0.099</td>\n",
       "    </tr>\n",
       "    <tr>\n",
       "      <th>SG:ARG</th>\n",
       "      <td>-0.027</td>\n",
       "      <td>0.194</td>\n",
       "      <td>-0.137</td>\n",
       "      <td>0.273</td>\n",
       "      <td>0.026</td>\n",
       "    </tr>\n",
       "    <tr>\n",
       "      <th>Money</th>\n",
       "      <td>$2,680,487</td>\n",
       "      <td>$2,485,203</td>\n",
       "      <td>$2,700,018</td>\n",
       "      <td>$1,986,608</td>\n",
       "      <td>$1,089,763</td>\n",
       "    </tr>\n",
       "  </tbody>\n",
       "</table>\n",
       "</div>"
      ],
      "text/plain": [
       "                                 0            1            2           3  \\\n",
       "Player Name         Henrik Stenson  Ryan Armour  Chez Reavie  Ryan Moore   \n",
       "Rounds                          60          109           93          78   \n",
       "Fairway Percentage           75.19        73.58        72.24       71.94   \n",
       "Year                          2018         2018         2018        2018   \n",
       "Avg Distance                 291.5        283.5        286.5       289.2   \n",
       "gir                          73.51        68.22        68.67        68.8   \n",
       "Average Putts                29.93        29.31        29.12       29.17   \n",
       "Average Scrambling           60.67        60.13        62.27       64.16   \n",
       "Average Score               69.617       70.758       70.432      70.015   \n",
       "Points                         868        1,006        1,020         795   \n",
       "Wins                           NaN            1          NaN         NaN   \n",
       "Top 10                           5            3            3           5   \n",
       "Average SG Putts            -0.207       -0.058        0.192      -0.271   \n",
       "Average SG Total             1.153        0.337        0.674       0.941   \n",
       "SG:OTT                       0.427       -0.012        0.183       0.406   \n",
       "SG:APR                        0.96        0.213        0.437       0.532   \n",
       "SG:ARG                      -0.027        0.194       -0.137       0.273   \n",
       "Money                   $2,680,487   $2,485,203   $2,700,018  $1,986,608   \n",
       "\n",
       "                               4  \n",
       "Player Name         Brian Stuard  \n",
       "Rounds                       103  \n",
       "Fairway Percentage         71.44  \n",
       "Year                        2018  \n",
       "Avg Distance               278.9  \n",
       "gir                        67.12  \n",
       "Average Putts              29.11  \n",
       "Average Scrambling         59.23  \n",
       "Average Score             71.038  \n",
       "Points                       421  \n",
       "Wins                         NaN  \n",
       "Top 10                         3  \n",
       "Average SG Putts           0.164  \n",
       "Average SG Total           0.062  \n",
       "SG:OTT                    -0.227  \n",
       "SG:APR                     0.099  \n",
       "SG:ARG                     0.026  \n",
       "Money                 $1,089,763  "
      ]
     },
     "execution_count": 276,
     "metadata": {},
     "output_type": "execute_result"
    }
   ],
   "source": [
    "df.head().T"
   ]
  },
  {
   "cell_type": "code",
   "execution_count": 277,
   "metadata": {},
   "outputs": [
    {
     "data": {
      "text/html": [
       "<div>\n",
       "<style scoped>\n",
       "    .dataframe tbody tr th:only-of-type {\n",
       "        vertical-align: middle;\n",
       "    }\n",
       "\n",
       "    .dataframe tbody tr th {\n",
       "        vertical-align: top;\n",
       "    }\n",
       "\n",
       "    .dataframe thead th {\n",
       "        text-align: right;\n",
       "    }\n",
       "</style>\n",
       "<table border=\"1\" class=\"dataframe\">\n",
       "  <thead>\n",
       "    <tr style=\"text-align: right;\">\n",
       "      <th></th>\n",
       "      <th>0</th>\n",
       "      <th>1</th>\n",
       "      <th>2</th>\n",
       "      <th>3</th>\n",
       "      <th>4</th>\n",
       "    </tr>\n",
       "  </thead>\n",
       "  <tbody>\n",
       "    <tr>\n",
       "      <th>Player</th>\n",
       "      <td>Henrik Stenson</td>\n",
       "      <td>Ryan Armour</td>\n",
       "      <td>Chez Reavie</td>\n",
       "      <td>Ryan Moore</td>\n",
       "      <td>Brian Stuard</td>\n",
       "    </tr>\n",
       "    <tr>\n",
       "      <th>Rounds</th>\n",
       "      <td>60</td>\n",
       "      <td>109</td>\n",
       "      <td>93</td>\n",
       "      <td>78</td>\n",
       "      <td>103</td>\n",
       "    </tr>\n",
       "    <tr>\n",
       "      <th>Fairway Percentage</th>\n",
       "      <td>75.19</td>\n",
       "      <td>73.58</td>\n",
       "      <td>72.24</td>\n",
       "      <td>71.94</td>\n",
       "      <td>71.44</td>\n",
       "    </tr>\n",
       "    <tr>\n",
       "      <th>Year</th>\n",
       "      <td>2018</td>\n",
       "      <td>2018</td>\n",
       "      <td>2018</td>\n",
       "      <td>2018</td>\n",
       "      <td>2018</td>\n",
       "    </tr>\n",
       "    <tr>\n",
       "      <th>Avg Distance</th>\n",
       "      <td>291.5</td>\n",
       "      <td>283.5</td>\n",
       "      <td>286.5</td>\n",
       "      <td>289.2</td>\n",
       "      <td>278.9</td>\n",
       "    </tr>\n",
       "    <tr>\n",
       "      <th>gir</th>\n",
       "      <td>73.51</td>\n",
       "      <td>68.22</td>\n",
       "      <td>68.67</td>\n",
       "      <td>68.8</td>\n",
       "      <td>67.12</td>\n",
       "    </tr>\n",
       "    <tr>\n",
       "      <th>Average Putts</th>\n",
       "      <td>29.93</td>\n",
       "      <td>29.31</td>\n",
       "      <td>29.12</td>\n",
       "      <td>29.17</td>\n",
       "      <td>29.11</td>\n",
       "    </tr>\n",
       "    <tr>\n",
       "      <th>Average Scrambling</th>\n",
       "      <td>60.67</td>\n",
       "      <td>60.13</td>\n",
       "      <td>62.27</td>\n",
       "      <td>64.16</td>\n",
       "      <td>59.23</td>\n",
       "    </tr>\n",
       "    <tr>\n",
       "      <th>Average Score</th>\n",
       "      <td>69.617</td>\n",
       "      <td>70.758</td>\n",
       "      <td>70.432</td>\n",
       "      <td>70.015</td>\n",
       "      <td>71.038</td>\n",
       "    </tr>\n",
       "    <tr>\n",
       "      <th>Points</th>\n",
       "      <td>868</td>\n",
       "      <td>1,006</td>\n",
       "      <td>1,020</td>\n",
       "      <td>795</td>\n",
       "      <td>421</td>\n",
       "    </tr>\n",
       "    <tr>\n",
       "      <th>Wins</th>\n",
       "      <td>NaN</td>\n",
       "      <td>1</td>\n",
       "      <td>NaN</td>\n",
       "      <td>NaN</td>\n",
       "      <td>NaN</td>\n",
       "    </tr>\n",
       "    <tr>\n",
       "      <th>Top_10</th>\n",
       "      <td>5</td>\n",
       "      <td>3</td>\n",
       "      <td>3</td>\n",
       "      <td>5</td>\n",
       "      <td>3</td>\n",
       "    </tr>\n",
       "    <tr>\n",
       "      <th>Average SG Putts</th>\n",
       "      <td>-0.207</td>\n",
       "      <td>-0.058</td>\n",
       "      <td>0.192</td>\n",
       "      <td>-0.271</td>\n",
       "      <td>0.164</td>\n",
       "    </tr>\n",
       "    <tr>\n",
       "      <th>Average SG Total</th>\n",
       "      <td>1.153</td>\n",
       "      <td>0.337</td>\n",
       "      <td>0.674</td>\n",
       "      <td>0.941</td>\n",
       "      <td>0.062</td>\n",
       "    </tr>\n",
       "    <tr>\n",
       "      <th>SG:OTT</th>\n",
       "      <td>0.427</td>\n",
       "      <td>-0.012</td>\n",
       "      <td>0.183</td>\n",
       "      <td>0.406</td>\n",
       "      <td>-0.227</td>\n",
       "    </tr>\n",
       "    <tr>\n",
       "      <th>SG:APR</th>\n",
       "      <td>0.96</td>\n",
       "      <td>0.213</td>\n",
       "      <td>0.437</td>\n",
       "      <td>0.532</td>\n",
       "      <td>0.099</td>\n",
       "    </tr>\n",
       "    <tr>\n",
       "      <th>SG:ARG</th>\n",
       "      <td>-0.027</td>\n",
       "      <td>0.194</td>\n",
       "      <td>-0.137</td>\n",
       "      <td>0.273</td>\n",
       "      <td>0.026</td>\n",
       "    </tr>\n",
       "    <tr>\n",
       "      <th>Money</th>\n",
       "      <td>$2,680,487</td>\n",
       "      <td>$2,485,203</td>\n",
       "      <td>$2,700,018</td>\n",
       "      <td>$1,986,608</td>\n",
       "      <td>$1,089,763</td>\n",
       "    </tr>\n",
       "  </tbody>\n",
       "</table>\n",
       "</div>"
      ],
      "text/plain": [
       "                                 0            1            2           3  \\\n",
       "Player              Henrik Stenson  Ryan Armour  Chez Reavie  Ryan Moore   \n",
       "Rounds                          60          109           93          78   \n",
       "Fairway Percentage           75.19        73.58        72.24       71.94   \n",
       "Year                          2018         2018         2018        2018   \n",
       "Avg Distance                 291.5        283.5        286.5       289.2   \n",
       "gir                          73.51        68.22        68.67        68.8   \n",
       "Average Putts                29.93        29.31        29.12       29.17   \n",
       "Average Scrambling           60.67        60.13        62.27       64.16   \n",
       "Average Score               69.617       70.758       70.432      70.015   \n",
       "Points                         868        1,006        1,020         795   \n",
       "Wins                           NaN            1          NaN         NaN   \n",
       "Top_10                           5            3            3           5   \n",
       "Average SG Putts            -0.207       -0.058        0.192      -0.271   \n",
       "Average SG Total             1.153        0.337        0.674       0.941   \n",
       "SG:OTT                       0.427       -0.012        0.183       0.406   \n",
       "SG:APR                        0.96        0.213        0.437       0.532   \n",
       "SG:ARG                      -0.027        0.194       -0.137       0.273   \n",
       "Money                   $2,680,487   $2,485,203   $2,700,018  $1,986,608   \n",
       "\n",
       "                               4  \n",
       "Player              Brian Stuard  \n",
       "Rounds                       103  \n",
       "Fairway Percentage         71.44  \n",
       "Year                        2018  \n",
       "Avg Distance               278.9  \n",
       "gir                        67.12  \n",
       "Average Putts              29.11  \n",
       "Average Scrambling         59.23  \n",
       "Average Score             71.038  \n",
       "Points                       421  \n",
       "Wins                         NaN  \n",
       "Top_10                         3  \n",
       "Average SG Putts           0.164  \n",
       "Average SG Total           0.062  \n",
       "SG:OTT                    -0.227  \n",
       "SG:APR                     0.099  \n",
       "SG:ARG                     0.026  \n",
       "Money                 $1,089,763  "
      ]
     },
     "execution_count": 277,
     "metadata": {},
     "output_type": "execute_result"
    }
   ],
   "source": [
    "# Rename Player Columns and Top 10 without spaces\n",
    "df.rename(columns = {'Player Name':'Player'}, inplace = True)\n",
    "df.rename(columns = {'Top 10':'Top_10'}, inplace = True)\n",
    "df.head().T"
   ]
  },
  {
   "cell_type": "code",
   "execution_count": 278,
   "metadata": {},
   "outputs": [
    {
     "data": {
      "text/html": [
       "<div>\n",
       "<style scoped>\n",
       "    .dataframe tbody tr th:only-of-type {\n",
       "        vertical-align: middle;\n",
       "    }\n",
       "\n",
       "    .dataframe tbody tr th {\n",
       "        vertical-align: top;\n",
       "    }\n",
       "\n",
       "    .dataframe thead th {\n",
       "        text-align: right;\n",
       "    }\n",
       "</style>\n",
       "<table border=\"1\" class=\"dataframe\">\n",
       "  <thead>\n",
       "    <tr style=\"text-align: right;\">\n",
       "      <th></th>\n",
       "      <th>Player</th>\n",
       "      <th>Rounds</th>\n",
       "      <th>Fairway Percentage</th>\n",
       "      <th>Year</th>\n",
       "      <th>Avg Distance</th>\n",
       "      <th>gir</th>\n",
       "      <th>Average Putts</th>\n",
       "      <th>Average Scrambling</th>\n",
       "      <th>Average Score</th>\n",
       "      <th>Points</th>\n",
       "      <th>Wins</th>\n",
       "      <th>Top_10</th>\n",
       "      <th>Average SG Putts</th>\n",
       "      <th>Average SG Total</th>\n",
       "      <th>SG:OTT</th>\n",
       "      <th>SG:APR</th>\n",
       "      <th>SG:ARG</th>\n",
       "      <th>Money</th>\n",
       "    </tr>\n",
       "  </thead>\n",
       "  <tbody>\n",
       "    <tr>\n",
       "      <th>124</th>\n",
       "      <td>Dustin Johnson</td>\n",
       "      <td>77.0</td>\n",
       "      <td>59.46</td>\n",
       "      <td>2018</td>\n",
       "      <td>314.0</td>\n",
       "      <td>70.57</td>\n",
       "      <td>28.47</td>\n",
       "      <td>62.50</td>\n",
       "      <td>68.698</td>\n",
       "      <td>2,717</td>\n",
       "      <td>3.0</td>\n",
       "      <td>10.0</td>\n",
       "      <td>0.385</td>\n",
       "      <td>2.372</td>\n",
       "      <td>0.919</td>\n",
       "      <td>0.829</td>\n",
       "      <td>0.238</td>\n",
       "      <td>$8,457,352</td>\n",
       "    </tr>\n",
       "    <tr>\n",
       "      <th>336</th>\n",
       "      <td>Dustin Johnson</td>\n",
       "      <td>77.0</td>\n",
       "      <td>56.44</td>\n",
       "      <td>2017</td>\n",
       "      <td>314.4</td>\n",
       "      <td>69.61</td>\n",
       "      <td>29.00</td>\n",
       "      <td>62.63</td>\n",
       "      <td>69.549</td>\n",
       "      <td>2,466</td>\n",
       "      <td>3.0</td>\n",
       "      <td>7.0</td>\n",
       "      <td>0.019</td>\n",
       "      <td>1.972</td>\n",
       "      <td>1.071</td>\n",
       "      <td>0.670</td>\n",
       "      <td>0.121</td>\n",
       "      <td>$8,732,193</td>\n",
       "    </tr>\n",
       "    <tr>\n",
       "      <th>520</th>\n",
       "      <td>Dustin Johnson</td>\n",
       "      <td>87.0</td>\n",
       "      <td>57.17</td>\n",
       "      <td>2016</td>\n",
       "      <td>313.6</td>\n",
       "      <td>67.82</td>\n",
       "      <td>28.49</td>\n",
       "      <td>59.58</td>\n",
       "      <td>69.172</td>\n",
       "      <td>2,701</td>\n",
       "      <td>2.0</td>\n",
       "      <td>12.0</td>\n",
       "      <td>0.328</td>\n",
       "      <td>1.993</td>\n",
       "      <td>1.117</td>\n",
       "      <td>0.477</td>\n",
       "      <td>0.070</td>\n",
       "      <td>$9,365,185</td>\n",
       "    </tr>\n",
       "    <tr>\n",
       "      <th>732</th>\n",
       "      <td>Dustin Johnson</td>\n",
       "      <td>75.0</td>\n",
       "      <td>55.53</td>\n",
       "      <td>2015</td>\n",
       "      <td>317.7</td>\n",
       "      <td>67.05</td>\n",
       "      <td>28.47</td>\n",
       "      <td>57.85</td>\n",
       "      <td>69.585</td>\n",
       "      <td>1,718</td>\n",
       "      <td>1.0</td>\n",
       "      <td>8.0</td>\n",
       "      <td>0.128</td>\n",
       "      <td>1.455</td>\n",
       "      <td>0.960</td>\n",
       "      <td>0.579</td>\n",
       "      <td>-0.212</td>\n",
       "      <td>$5,509,467</td>\n",
       "    </tr>\n",
       "    <tr>\n",
       "      <th>898</th>\n",
       "      <td>Dustin Johnson</td>\n",
       "      <td>58.0</td>\n",
       "      <td>57.18</td>\n",
       "      <td>2014</td>\n",
       "      <td>311.0</td>\n",
       "      <td>68.03</td>\n",
       "      <td>28.74</td>\n",
       "      <td>59.76</td>\n",
       "      <td>69.546</td>\n",
       "      <td>1,769</td>\n",
       "      <td>1.0</td>\n",
       "      <td>7.0</td>\n",
       "      <td>0.082</td>\n",
       "      <td>1.331</td>\n",
       "      <td>0.730</td>\n",
       "      <td>0.533</td>\n",
       "      <td>-0.015</td>\n",
       "      <td>$4,249,180</td>\n",
       "    </tr>\n",
       "    <tr>\n",
       "      <th>1099</th>\n",
       "      <td>Dustin Johnson</td>\n",
       "      <td>71.0</td>\n",
       "      <td>53.36</td>\n",
       "      <td>2013</td>\n",
       "      <td>305.8</td>\n",
       "      <td>66.75</td>\n",
       "      <td>29.40</td>\n",
       "      <td>53.22</td>\n",
       "      <td>70.115</td>\n",
       "      <td>1,226</td>\n",
       "      <td>1.0</td>\n",
       "      <td>5.0</td>\n",
       "      <td>-0.101</td>\n",
       "      <td>0.805</td>\n",
       "      <td>0.332</td>\n",
       "      <td>0.663</td>\n",
       "      <td>-0.090</td>\n",
       "      <td>$2,963,214</td>\n",
       "    </tr>\n",
       "    <tr>\n",
       "      <th>1266</th>\n",
       "      <td>Dustin Johnson</td>\n",
       "      <td>70.0</td>\n",
       "      <td>56.30</td>\n",
       "      <td>2012</td>\n",
       "      <td>310.2</td>\n",
       "      <td>65.75</td>\n",
       "      <td>28.64</td>\n",
       "      <td>60.29</td>\n",
       "      <td>69.564</td>\n",
       "      <td>1,097</td>\n",
       "      <td>1.0</td>\n",
       "      <td>5.0</td>\n",
       "      <td>0.185</td>\n",
       "      <td>1.509</td>\n",
       "      <td>0.720</td>\n",
       "      <td>0.638</td>\n",
       "      <td>-0.035</td>\n",
       "      <td>$3,393,820</td>\n",
       "    </tr>\n",
       "    <tr>\n",
       "      <th>1446</th>\n",
       "      <td>Dustin Johnson</td>\n",
       "      <td>72.0</td>\n",
       "      <td>57.17</td>\n",
       "      <td>2011</td>\n",
       "      <td>314.2</td>\n",
       "      <td>68.39</td>\n",
       "      <td>29.56</td>\n",
       "      <td>51.24</td>\n",
       "      <td>70.457</td>\n",
       "      <td>1,191</td>\n",
       "      <td>NaN</td>\n",
       "      <td>5.0</td>\n",
       "      <td>-0.549</td>\n",
       "      <td>0.576</td>\n",
       "      <td>0.912</td>\n",
       "      <td>0.195</td>\n",
       "      <td>0.019</td>\n",
       "      <td>$4,309,961</td>\n",
       "    </tr>\n",
       "    <tr>\n",
       "      <th>1657</th>\n",
       "      <td>Dustin Johnson</td>\n",
       "      <td>83.0</td>\n",
       "      <td>56.35</td>\n",
       "      <td>2010</td>\n",
       "      <td>308.5</td>\n",
       "      <td>67.95</td>\n",
       "      <td>29.37</td>\n",
       "      <td>55.81</td>\n",
       "      <td>70.135</td>\n",
       "      <td>1,362</td>\n",
       "      <td>1.0</td>\n",
       "      <td>5.0</td>\n",
       "      <td>0.112</td>\n",
       "      <td>0.979</td>\n",
       "      <td>0.760</td>\n",
       "      <td>0.288</td>\n",
       "      <td>-0.179</td>\n",
       "      <td>4,473,122</td>\n",
       "    </tr>\n",
       "  </tbody>\n",
       "</table>\n",
       "</div>"
      ],
      "text/plain": [
       "              Player  Rounds  Fairway Percentage  Year  Avg Distance    gir  \\\n",
       "124   Dustin Johnson    77.0               59.46  2018         314.0  70.57   \n",
       "336   Dustin Johnson    77.0               56.44  2017         314.4  69.61   \n",
       "520   Dustin Johnson    87.0               57.17  2016         313.6  67.82   \n",
       "732   Dustin Johnson    75.0               55.53  2015         317.7  67.05   \n",
       "898   Dustin Johnson    58.0               57.18  2014         311.0  68.03   \n",
       "1099  Dustin Johnson    71.0               53.36  2013         305.8  66.75   \n",
       "1266  Dustin Johnson    70.0               56.30  2012         310.2  65.75   \n",
       "1446  Dustin Johnson    72.0               57.17  2011         314.2  68.39   \n",
       "1657  Dustin Johnson    83.0               56.35  2010         308.5  67.95   \n",
       "\n",
       "      Average Putts  Average Scrambling  Average Score Points  Wins  Top_10  \\\n",
       "124           28.47               62.50         68.698  2,717   3.0    10.0   \n",
       "336           29.00               62.63         69.549  2,466   3.0     7.0   \n",
       "520           28.49               59.58         69.172  2,701   2.0    12.0   \n",
       "732           28.47               57.85         69.585  1,718   1.0     8.0   \n",
       "898           28.74               59.76         69.546  1,769   1.0     7.0   \n",
       "1099          29.40               53.22         70.115  1,226   1.0     5.0   \n",
       "1266          28.64               60.29         69.564  1,097   1.0     5.0   \n",
       "1446          29.56               51.24         70.457  1,191   NaN     5.0   \n",
       "1657          29.37               55.81         70.135  1,362   1.0     5.0   \n",
       "\n",
       "      Average SG Putts  Average SG Total  SG:OTT  SG:APR  SG:ARG       Money  \n",
       "124              0.385             2.372   0.919   0.829   0.238  $8,457,352  \n",
       "336              0.019             1.972   1.071   0.670   0.121  $8,732,193  \n",
       "520              0.328             1.993   1.117   0.477   0.070  $9,365,185  \n",
       "732              0.128             1.455   0.960   0.579  -0.212  $5,509,467  \n",
       "898              0.082             1.331   0.730   0.533  -0.015  $4,249,180  \n",
       "1099            -0.101             0.805   0.332   0.663  -0.090  $2,963,214  \n",
       "1266             0.185             1.509   0.720   0.638  -0.035  $3,393,820  \n",
       "1446            -0.549             0.576   0.912   0.195   0.019  $4,309,961  \n",
       "1657             0.112             0.979   0.760   0.288  -0.179   4,473,122  "
      ]
     },
     "execution_count": 278,
     "metadata": {},
     "output_type": "execute_result"
    }
   ],
   "source": [
    "# Look at One Player\n",
    "df[df.Player == (\"Dustin Johnson\")]"
   ]
  },
  {
   "cell_type": "code",
   "execution_count": 279,
   "metadata": {},
   "outputs": [
    {
     "data": {
      "text/plain": [
       "2311    2010\n",
       "1607    2010\n",
       "1608    2010\n",
       "1609    2010\n",
       "1610    2010\n",
       "1611    2010\n",
       "1612    2010\n",
       "1613    2010\n",
       "1614    2010\n",
       "1615    2010\n",
       "1606    2010\n",
       "1616    2010\n",
       "1618    2010\n",
       "1619    2010\n",
       "1620    2010\n",
       "1621    2010\n",
       "1622    2010\n",
       "1623    2010\n",
       "1624    2010\n",
       "1625    2010\n",
       "Name: Year, dtype: int64"
      ]
     },
     "execution_count": 279,
     "metadata": {},
     "output_type": "execute_result"
    }
   ],
   "source": [
    "# Sort DataFrame in date order\n",
    "df.sort_values(by=[\"Year\"], inplace=True, ascending=True)\n",
    "df.Year.head(20)"
   ]
  },
  {
   "cell_type": "markdown",
   "metadata": {},
   "source": [
    "### Make a copy of the original dataframe\n",
    "So when we manipulate the copy, we've still got our original data. "
   ]
  },
  {
   "cell_type": "code",
   "execution_count": 280,
   "metadata": {},
   "outputs": [],
   "source": [
    "# Make a copy of the original dataframe to perform edits on.\n",
    "df_tmp = df.copy()"
   ]
  },
  {
   "cell_type": "code",
   "execution_count": 281,
   "metadata": {},
   "outputs": [
    {
     "data": {
      "text/plain": [
       "1        25\n",
       "2        23\n",
       "9        15\n",
       "3        15\n",
       "4        15\n",
       "         ..\n",
       "1,057     1\n",
       "2,717     1\n",
       "920       1\n",
       "998       1\n",
       "294       1\n",
       "Name: Points, Length: 1039, dtype: int64"
      ]
     },
     "execution_count": 281,
     "metadata": {},
     "output_type": "execute_result"
    }
   ],
   "source": [
    "# Check the values of different comlumns\n",
    "df_tmp.Points.value_counts()"
   ]
  },
  {
   "cell_type": "code",
   "execution_count": 282,
   "metadata": {},
   "outputs": [
    {
     "data": {
      "text/html": [
       "<div>\n",
       "<style scoped>\n",
       "    .dataframe tbody tr th:only-of-type {\n",
       "        vertical-align: middle;\n",
       "    }\n",
       "\n",
       "    .dataframe tbody tr th {\n",
       "        vertical-align: top;\n",
       "    }\n",
       "\n",
       "    .dataframe thead th {\n",
       "        text-align: right;\n",
       "    }\n",
       "</style>\n",
       "<table border=\"1\" class=\"dataframe\">\n",
       "  <thead>\n",
       "    <tr style=\"text-align: right;\">\n",
       "      <th></th>\n",
       "      <th>Player</th>\n",
       "      <th>Rounds</th>\n",
       "      <th>Fairway Percentage</th>\n",
       "      <th>Year</th>\n",
       "      <th>Avg Distance</th>\n",
       "      <th>gir</th>\n",
       "      <th>Average Putts</th>\n",
       "      <th>Average Scrambling</th>\n",
       "      <th>Average Score</th>\n",
       "      <th>Points</th>\n",
       "      <th>Wins</th>\n",
       "      <th>Top_10</th>\n",
       "      <th>Average SG Putts</th>\n",
       "      <th>Average SG Total</th>\n",
       "      <th>SG:OTT</th>\n",
       "      <th>SG:APR</th>\n",
       "      <th>SG:ARG</th>\n",
       "      <th>Money</th>\n",
       "    </tr>\n",
       "  </thead>\n",
       "  <tbody>\n",
       "    <tr>\n",
       "      <th>2311</th>\n",
       "      <td>Jim Gallagher, Jr.</td>\n",
       "      <td>NaN</td>\n",
       "      <td>NaN</td>\n",
       "      <td>2010</td>\n",
       "      <td>NaN</td>\n",
       "      <td>NaN</td>\n",
       "      <td>NaN</td>\n",
       "      <td>NaN</td>\n",
       "      <td>NaN</td>\n",
       "      <td>NaN</td>\n",
       "      <td>NaN</td>\n",
       "      <td>NaN</td>\n",
       "      <td>NaN</td>\n",
       "      <td>NaN</td>\n",
       "      <td>NaN</td>\n",
       "      <td>NaN</td>\n",
       "      <td>NaN</td>\n",
       "      <td>6,552</td>\n",
       "    </tr>\n",
       "    <tr>\n",
       "      <th>1607</th>\n",
       "      <td>Freddie Jacobson</td>\n",
       "      <td>83.0</td>\n",
       "      <td>62.16</td>\n",
       "      <td>2010</td>\n",
       "      <td>283.1</td>\n",
       "      <td>67.80</td>\n",
       "      <td>28.93</td>\n",
       "      <td>63.20</td>\n",
       "      <td>70.367</td>\n",
       "      <td>826</td>\n",
       "      <td>NaN</td>\n",
       "      <td>3.0</td>\n",
       "      <td>0.241</td>\n",
       "      <td>0.722</td>\n",
       "      <td>-0.064</td>\n",
       "      <td>0.302</td>\n",
       "      <td>0.241</td>\n",
       "      <td>1,666,252</td>\n",
       "    </tr>\n",
       "    <tr>\n",
       "      <th>1608</th>\n",
       "      <td>Matt Every</td>\n",
       "      <td>60.0</td>\n",
       "      <td>62.06</td>\n",
       "      <td>2010</td>\n",
       "      <td>290.9</td>\n",
       "      <td>64.75</td>\n",
       "      <td>28.93</td>\n",
       "      <td>57.61</td>\n",
       "      <td>70.986</td>\n",
       "      <td>322</td>\n",
       "      <td>NaN</td>\n",
       "      <td>1.0</td>\n",
       "      <td>0.240</td>\n",
       "      <td>-0.073</td>\n",
       "      <td>0.166</td>\n",
       "      <td>-0.292</td>\n",
       "      <td>-0.185</td>\n",
       "      <td>456,847</td>\n",
       "    </tr>\n",
       "    <tr>\n",
       "      <th>1609</th>\n",
       "      <td>Steve Marino</td>\n",
       "      <td>81.0</td>\n",
       "      <td>61.96</td>\n",
       "      <td>2010</td>\n",
       "      <td>290.6</td>\n",
       "      <td>67.49</td>\n",
       "      <td>29.53</td>\n",
       "      <td>56.33</td>\n",
       "      <td>70.875</td>\n",
       "      <td>636</td>\n",
       "      <td>NaN</td>\n",
       "      <td>2.0</td>\n",
       "      <td>0.261</td>\n",
       "      <td>0.567</td>\n",
       "      <td>0.270</td>\n",
       "      <td>-0.016</td>\n",
       "      <td>0.053</td>\n",
       "      <td>1,479,239</td>\n",
       "    </tr>\n",
       "    <tr>\n",
       "      <th>1610</th>\n",
       "      <td>Steve Lowery</td>\n",
       "      <td>67.0</td>\n",
       "      <td>61.90</td>\n",
       "      <td>2010</td>\n",
       "      <td>286.2</td>\n",
       "      <td>65.52</td>\n",
       "      <td>30.03</td>\n",
       "      <td>50.38</td>\n",
       "      <td>72.202</td>\n",
       "      <td>67</td>\n",
       "      <td>NaN</td>\n",
       "      <td>NaN</td>\n",
       "      <td>-0.386</td>\n",
       "      <td>-1.177</td>\n",
       "      <td>0.122</td>\n",
       "      <td>-0.310</td>\n",
       "      <td>-0.607</td>\n",
       "      <td>118,602</td>\n",
       "    </tr>\n",
       "  </tbody>\n",
       "</table>\n",
       "</div>"
      ],
      "text/plain": [
       "                  Player  Rounds  Fairway Percentage  Year  Avg Distance  \\\n",
       "2311  Jim Gallagher, Jr.     NaN                 NaN  2010           NaN   \n",
       "1607    Freddie Jacobson    83.0               62.16  2010         283.1   \n",
       "1608          Matt Every    60.0               62.06  2010         290.9   \n",
       "1609        Steve Marino    81.0               61.96  2010         290.6   \n",
       "1610        Steve Lowery    67.0               61.90  2010         286.2   \n",
       "\n",
       "        gir  Average Putts  Average Scrambling  Average Score Points  Wins  \\\n",
       "2311    NaN            NaN                 NaN            NaN    NaN   NaN   \n",
       "1607  67.80          28.93               63.20         70.367    826   NaN   \n",
       "1608  64.75          28.93               57.61         70.986    322   NaN   \n",
       "1609  67.49          29.53               56.33         70.875    636   NaN   \n",
       "1610  65.52          30.03               50.38         72.202     67   NaN   \n",
       "\n",
       "      Top_10  Average SG Putts  Average SG Total  SG:OTT  SG:APR  SG:ARG  \\\n",
       "2311     NaN               NaN               NaN     NaN     NaN     NaN   \n",
       "1607     3.0             0.241             0.722  -0.064   0.302   0.241   \n",
       "1608     1.0             0.240            -0.073   0.166  -0.292  -0.185   \n",
       "1609     2.0             0.261             0.567   0.270  -0.016   0.053   \n",
       "1610     NaN            -0.386            -1.177   0.122  -0.310  -0.607   \n",
       "\n",
       "          Money  \n",
       "2311      6,552  \n",
       "1607  1,666,252  \n",
       "1608    456,847  \n",
       "1609  1,479,239  \n",
       "1610    118,602  "
      ]
     },
     "execution_count": 282,
     "metadata": {},
     "output_type": "execute_result"
    }
   ],
   "source": [
    "df_tmp.head()"
   ]
  },
  {
   "cell_type": "code",
   "execution_count": 283,
   "metadata": {},
   "outputs": [
    {
     "data": {
      "text/plain": [
       "2312"
      ]
     },
     "execution_count": 283,
     "metadata": {},
     "output_type": "execute_result"
    }
   ],
   "source": [
    "len(df_tmp)"
   ]
  },
  {
   "cell_type": "markdown",
   "metadata": {},
   "source": [
    "## Manipulate the Data into numbers"
   ]
  },
  {
   "cell_type": "code",
   "execution_count": 284,
   "metadata": {},
   "outputs": [
    {
     "name": "stdout",
     "output_type": "stream",
     "text": [
      "<class 'pandas.core.frame.DataFrame'>\n",
      "Int64Index: 2312 entries, 2311 to 0\n",
      "Data columns (total 18 columns):\n",
      " #   Column              Non-Null Count  Dtype  \n",
      "---  ------              --------------  -----  \n",
      " 0   Player              2312 non-null   object \n",
      " 1   Rounds              1678 non-null   float64\n",
      " 2   Fairway Percentage  1678 non-null   float64\n",
      " 3   Year                2312 non-null   int64  \n",
      " 4   Avg Distance        1678 non-null   float64\n",
      " 5   gir                 1678 non-null   float64\n",
      " 6   Average Putts       1678 non-null   float64\n",
      " 7   Average Scrambling  1678 non-null   float64\n",
      " 8   Average Score       1678 non-null   float64\n",
      " 9   Points              2296 non-null   object \n",
      " 10  Wins                293 non-null    float64\n",
      " 11  Top_10              1458 non-null   float64\n",
      " 12  Average SG Putts    1678 non-null   float64\n",
      " 13  Average SG Total    1678 non-null   float64\n",
      " 14  SG:OTT              1678 non-null   float64\n",
      " 15  SG:APR              1678 non-null   float64\n",
      " 16  SG:ARG              1678 non-null   float64\n",
      " 17  Money               2300 non-null   object \n",
      "dtypes: float64(14), int64(1), object(3)\n",
      "memory usage: 343.2+ KB\n"
     ]
    }
   ],
   "source": [
    "df_tmp.info()"
   ]
  },
  {
   "cell_type": "code",
   "execution_count": 285,
   "metadata": {},
   "outputs": [
    {
     "data": {
      "text/plain": [
       "dtype('O')"
      ]
     },
     "execution_count": 285,
     "metadata": {},
     "output_type": "execute_result"
    }
   ],
   "source": [
    "df_tmp[\"Player\"].dtype"
   ]
  },
  {
   "cell_type": "code",
   "execution_count": 286,
   "metadata": {},
   "outputs": [
    {
     "data": {
      "text/plain": [
       "Player                   0\n",
       "Rounds                 634\n",
       "Fairway Percentage     634\n",
       "Year                     0\n",
       "Avg Distance           634\n",
       "gir                    634\n",
       "Average Putts          634\n",
       "Average Scrambling     634\n",
       "Average Score          634\n",
       "Points                  16\n",
       "Wins                  2019\n",
       "Top_10                 854\n",
       "Average SG Putts       634\n",
       "Average SG Total       634\n",
       "SG:OTT                 634\n",
       "SG:APR                 634\n",
       "SG:ARG                 634\n",
       "Money                   12\n",
       "dtype: int64"
      ]
     },
     "execution_count": 286,
     "metadata": {},
     "output_type": "execute_result"
    }
   ],
   "source": [
    "df_tmp.isna().sum()"
   ]
  },
  {
   "cell_type": "markdown",
   "metadata": {},
   "source": [
    "### Convert string into categories\n",
    "One way we can turn all of our data into numbers is by converting them into pandas categories."
   ]
  },
  {
   "cell_type": "code",
   "execution_count": 287,
   "metadata": {},
   "outputs": [
    {
     "data": {
      "text/html": [
       "<div>\n",
       "<style scoped>\n",
       "    .dataframe tbody tr th:only-of-type {\n",
       "        vertical-align: middle;\n",
       "    }\n",
       "\n",
       "    .dataframe tbody tr th {\n",
       "        vertical-align: top;\n",
       "    }\n",
       "\n",
       "    .dataframe thead th {\n",
       "        text-align: right;\n",
       "    }\n",
       "</style>\n",
       "<table border=\"1\" class=\"dataframe\">\n",
       "  <thead>\n",
       "    <tr style=\"text-align: right;\">\n",
       "      <th></th>\n",
       "      <th>2311</th>\n",
       "      <th>1607</th>\n",
       "      <th>1608</th>\n",
       "      <th>1609</th>\n",
       "      <th>1610</th>\n",
       "    </tr>\n",
       "  </thead>\n",
       "  <tbody>\n",
       "    <tr>\n",
       "      <th>Player</th>\n",
       "      <td>Jim Gallagher, Jr.</td>\n",
       "      <td>Freddie Jacobson</td>\n",
       "      <td>Matt Every</td>\n",
       "      <td>Steve Marino</td>\n",
       "      <td>Steve Lowery</td>\n",
       "    </tr>\n",
       "    <tr>\n",
       "      <th>Rounds</th>\n",
       "      <td>NaN</td>\n",
       "      <td>83</td>\n",
       "      <td>60</td>\n",
       "      <td>81</td>\n",
       "      <td>67</td>\n",
       "    </tr>\n",
       "    <tr>\n",
       "      <th>Fairway Percentage</th>\n",
       "      <td>NaN</td>\n",
       "      <td>62.16</td>\n",
       "      <td>62.06</td>\n",
       "      <td>61.96</td>\n",
       "      <td>61.9</td>\n",
       "    </tr>\n",
       "    <tr>\n",
       "      <th>Year</th>\n",
       "      <td>2010</td>\n",
       "      <td>2010</td>\n",
       "      <td>2010</td>\n",
       "      <td>2010</td>\n",
       "      <td>2010</td>\n",
       "    </tr>\n",
       "    <tr>\n",
       "      <th>Avg Distance</th>\n",
       "      <td>NaN</td>\n",
       "      <td>283.1</td>\n",
       "      <td>290.9</td>\n",
       "      <td>290.6</td>\n",
       "      <td>286.2</td>\n",
       "    </tr>\n",
       "    <tr>\n",
       "      <th>gir</th>\n",
       "      <td>NaN</td>\n",
       "      <td>67.8</td>\n",
       "      <td>64.75</td>\n",
       "      <td>67.49</td>\n",
       "      <td>65.52</td>\n",
       "    </tr>\n",
       "    <tr>\n",
       "      <th>Average Putts</th>\n",
       "      <td>NaN</td>\n",
       "      <td>28.93</td>\n",
       "      <td>28.93</td>\n",
       "      <td>29.53</td>\n",
       "      <td>30.03</td>\n",
       "    </tr>\n",
       "    <tr>\n",
       "      <th>Average Scrambling</th>\n",
       "      <td>NaN</td>\n",
       "      <td>63.2</td>\n",
       "      <td>57.61</td>\n",
       "      <td>56.33</td>\n",
       "      <td>50.38</td>\n",
       "    </tr>\n",
       "    <tr>\n",
       "      <th>Average Score</th>\n",
       "      <td>NaN</td>\n",
       "      <td>70.367</td>\n",
       "      <td>70.986</td>\n",
       "      <td>70.875</td>\n",
       "      <td>72.202</td>\n",
       "    </tr>\n",
       "    <tr>\n",
       "      <th>Points</th>\n",
       "      <td>NaN</td>\n",
       "      <td>826</td>\n",
       "      <td>322</td>\n",
       "      <td>636</td>\n",
       "      <td>67</td>\n",
       "    </tr>\n",
       "    <tr>\n",
       "      <th>Wins</th>\n",
       "      <td>NaN</td>\n",
       "      <td>NaN</td>\n",
       "      <td>NaN</td>\n",
       "      <td>NaN</td>\n",
       "      <td>NaN</td>\n",
       "    </tr>\n",
       "    <tr>\n",
       "      <th>Top_10</th>\n",
       "      <td>NaN</td>\n",
       "      <td>3</td>\n",
       "      <td>1</td>\n",
       "      <td>2</td>\n",
       "      <td>NaN</td>\n",
       "    </tr>\n",
       "    <tr>\n",
       "      <th>Average SG Putts</th>\n",
       "      <td>NaN</td>\n",
       "      <td>0.241</td>\n",
       "      <td>0.24</td>\n",
       "      <td>0.261</td>\n",
       "      <td>-0.386</td>\n",
       "    </tr>\n",
       "    <tr>\n",
       "      <th>Average SG Total</th>\n",
       "      <td>NaN</td>\n",
       "      <td>0.722</td>\n",
       "      <td>-0.073</td>\n",
       "      <td>0.567</td>\n",
       "      <td>-1.177</td>\n",
       "    </tr>\n",
       "    <tr>\n",
       "      <th>SG:OTT</th>\n",
       "      <td>NaN</td>\n",
       "      <td>-0.064</td>\n",
       "      <td>0.166</td>\n",
       "      <td>0.27</td>\n",
       "      <td>0.122</td>\n",
       "    </tr>\n",
       "    <tr>\n",
       "      <th>SG:APR</th>\n",
       "      <td>NaN</td>\n",
       "      <td>0.302</td>\n",
       "      <td>-0.292</td>\n",
       "      <td>-0.016</td>\n",
       "      <td>-0.31</td>\n",
       "    </tr>\n",
       "    <tr>\n",
       "      <th>SG:ARG</th>\n",
       "      <td>NaN</td>\n",
       "      <td>0.241</td>\n",
       "      <td>-0.185</td>\n",
       "      <td>0.053</td>\n",
       "      <td>-0.607</td>\n",
       "    </tr>\n",
       "    <tr>\n",
       "      <th>Money</th>\n",
       "      <td>6,552</td>\n",
       "      <td>1,666,252</td>\n",
       "      <td>456,847</td>\n",
       "      <td>1,479,239</td>\n",
       "      <td>118,602</td>\n",
       "    </tr>\n",
       "  </tbody>\n",
       "</table>\n",
       "</div>"
      ],
      "text/plain": [
       "                                  2311              1607        1608  \\\n",
       "Player              Jim Gallagher, Jr.  Freddie Jacobson  Matt Every   \n",
       "Rounds                             NaN                83          60   \n",
       "Fairway Percentage                 NaN             62.16       62.06   \n",
       "Year                              2010              2010        2010   \n",
       "Avg Distance                       NaN             283.1       290.9   \n",
       "gir                                NaN              67.8       64.75   \n",
       "Average Putts                      NaN             28.93       28.93   \n",
       "Average Scrambling                 NaN              63.2       57.61   \n",
       "Average Score                      NaN            70.367      70.986   \n",
       "Points                             NaN               826         322   \n",
       "Wins                               NaN               NaN         NaN   \n",
       "Top_10                             NaN                 3           1   \n",
       "Average SG Putts                   NaN             0.241        0.24   \n",
       "Average SG Total                   NaN             0.722      -0.073   \n",
       "SG:OTT                             NaN            -0.064       0.166   \n",
       "SG:APR                             NaN             0.302      -0.292   \n",
       "SG:ARG                             NaN             0.241      -0.185   \n",
       "Money                            6,552         1,666,252     456,847   \n",
       "\n",
       "                            1609          1610  \n",
       "Player              Steve Marino  Steve Lowery  \n",
       "Rounds                        81            67  \n",
       "Fairway Percentage         61.96          61.9  \n",
       "Year                        2010          2010  \n",
       "Avg Distance               290.6         286.2  \n",
       "gir                        67.49         65.52  \n",
       "Average Putts              29.53         30.03  \n",
       "Average Scrambling         56.33         50.38  \n",
       "Average Score             70.875        72.202  \n",
       "Points                       636            67  \n",
       "Wins                         NaN           NaN  \n",
       "Top_10                         2           NaN  \n",
       "Average SG Putts           0.261        -0.386  \n",
       "Average SG Total           0.567        -1.177  \n",
       "SG:OTT                      0.27         0.122  \n",
       "SG:APR                    -0.016         -0.31  \n",
       "SG:ARG                     0.053        -0.607  \n",
       "Money                  1,479,239       118,602  "
      ]
     },
     "execution_count": 287,
     "metadata": {},
     "output_type": "execute_result"
    }
   ],
   "source": [
    "df_tmp.head().T"
   ]
  },
  {
   "cell_type": "code",
   "execution_count": 288,
   "metadata": {},
   "outputs": [
    {
     "data": {
      "text/plain": [
       "True"
      ]
     },
     "execution_count": 288,
     "metadata": {},
     "output_type": "execute_result"
    }
   ],
   "source": [
    "pd.api.types.is_string_dtype(df_tmp[\"Points\"])"
   ]
  },
  {
   "cell_type": "code",
   "execution_count": 289,
   "metadata": {},
   "outputs": [
    {
     "name": "stdout",
     "output_type": "stream",
     "text": [
      "Player\n",
      "Points\n",
      "Money\n"
     ]
    }
   ],
   "source": [
    "# Find the columns whick contain strings\n",
    "for label, content in df_tmp.items():\n",
    "    if pd.api.types.is_string_dtype(content):\n",
    "        print(label)"
   ]
  },
  {
   "cell_type": "code",
   "execution_count": 290,
   "metadata": {},
   "outputs": [],
   "source": [
    "# This will turn all of the string value into category values\n",
    "for label, content in df_tmp.items():\n",
    "    if pd.api.types.is_string_dtype(content):\n",
    "        df_tmp[label] = content.astype(\"category\").cat.as_ordered()"
   ]
  },
  {
   "cell_type": "code",
   "execution_count": 291,
   "metadata": {},
   "outputs": [
    {
     "name": "stdout",
     "output_type": "stream",
     "text": [
      "<class 'pandas.core.frame.DataFrame'>\n",
      "Int64Index: 2312 entries, 2311 to 0\n",
      "Data columns (total 18 columns):\n",
      " #   Column              Non-Null Count  Dtype   \n",
      "---  ------              --------------  -----   \n",
      " 0   Player              2312 non-null   category\n",
      " 1   Rounds              1678 non-null   float64 \n",
      " 2   Fairway Percentage  1678 non-null   float64 \n",
      " 3   Year                2312 non-null   int64   \n",
      " 4   Avg Distance        1678 non-null   float64 \n",
      " 5   gir                 1678 non-null   float64 \n",
      " 6   Average Putts       1678 non-null   float64 \n",
      " 7   Average Scrambling  1678 non-null   float64 \n",
      " 8   Average Score       1678 non-null   float64 \n",
      " 9   Points              2296 non-null   category\n",
      " 10  Wins                293 non-null    float64 \n",
      " 11  Top_10              1458 non-null   float64 \n",
      " 12  Average SG Putts    1678 non-null   float64 \n",
      " 13  Average SG Total    1678 non-null   float64 \n",
      " 14  SG:OTT              1678 non-null   float64 \n",
      " 15  SG:APR              1678 non-null   float64 \n",
      " 16  SG:ARG              1678 non-null   float64 \n",
      " 17  Money               2300 non-null   category\n",
      "dtypes: category(3), float64(14), int64(1)\n",
      "memory usage: 472.6 KB\n"
     ]
    }
   ],
   "source": [
    "df_tmp.info()"
   ]
  },
  {
   "cell_type": "code",
   "execution_count": 292,
   "metadata": {},
   "outputs": [
    {
     "data": {
      "text/plain": [
       "Index(['Aaron Baddeley', 'Aaron Watkins', 'Aaron Wise', 'Abraham Ancer',\n",
       "       'Adam Hadwin', 'Adam Schenk', 'Adam Scott', 'Alex Aragon', 'Alex Cejka',\n",
       "       'Alex Noren',\n",
       "       ...\n",
       "       'Woody Austin', 'Xander Schauffele', 'Xinjun Zhang', 'Y.E. Yang',\n",
       "       'Zac Blair', 'Zach Johnson', 'Zack Miller', 'Zack Sucher',\n",
       "       'Zecheng Dou', 'Ángel Cabrera'],\n",
       "      dtype='object', length=526)"
      ]
     },
     "execution_count": 292,
     "metadata": {},
     "output_type": "execute_result"
    }
   ],
   "source": [
    "df_tmp.Player.cat.categories"
   ]
  },
  {
   "cell_type": "code",
   "execution_count": 293,
   "metadata": {},
   "outputs": [
    {
     "data": {
      "text/plain": [
       "2311    233\n",
       "1607    169\n",
       "1608    324\n",
       "1609    456\n",
       "1610    455\n",
       "       ... \n",
       "166     117\n",
       "165     324\n",
       "164     365\n",
       "179     484\n",
       "0       194\n",
       "Length: 2312, dtype: int16"
      ]
     },
     "execution_count": 293,
     "metadata": {},
     "output_type": "execute_result"
    }
   ],
   "source": [
    "df_tmp.Player.cat.codes"
   ]
  },
  {
   "cell_type": "markdown",
   "metadata": {},
   "source": [
    "## Thanks to pandas Categories we now have a way to access all of our data in the form of numbers\n",
    "\n",
    "## But we still have a bunch of missing data"
   ]
  },
  {
   "cell_type": "code",
   "execution_count": 294,
   "metadata": {},
   "outputs": [
    {
     "data": {
      "text/plain": [
       "Player                0.000000\n",
       "Rounds                0.274221\n",
       "Fairway Percentage    0.274221\n",
       "Year                  0.000000\n",
       "Avg Distance          0.274221\n",
       "gir                   0.274221\n",
       "Average Putts         0.274221\n",
       "Average Scrambling    0.274221\n",
       "Average Score         0.274221\n",
       "Points                0.006920\n",
       "Wins                  0.873270\n",
       "Top_10                0.369377\n",
       "Average SG Putts      0.274221\n",
       "Average SG Total      0.274221\n",
       "SG:OTT                0.274221\n",
       "SG:APR                0.274221\n",
       "SG:ARG                0.274221\n",
       "Money                 0.005190\n",
       "dtype: float64"
      ]
     },
     "execution_count": 294,
     "metadata": {},
     "output_type": "execute_result"
    }
   ],
   "source": [
    "# Check the missing data\n",
    "df_tmp.isnull().sum()/len(df_tmp)"
   ]
  },
  {
   "cell_type": "markdown",
   "metadata": {},
   "source": [
    "## Save the preprocessed data"
   ]
  },
  {
   "cell_type": "code",
   "execution_count": 295,
   "metadata": {},
   "outputs": [],
   "source": [
    "# Export the current tmp dataframe\n",
    "# df_tmp.to_csv(\"Desktop/pga-project-folder\",\n",
    "#             index=False)\n",
    "\n",
    "# Import the preprocessed data\n",
    "# df_tmp = pd.read_csv(\"\"Desktop/pga-project-folder,\n",
    "#                      low_memory=False)\n",
    "\n",
    "# Set up environment when beginning"
   ]
  },
  {
   "cell_type": "code",
   "execution_count": 296,
   "metadata": {},
   "outputs": [
    {
     "data": {
      "text/html": [
       "<div>\n",
       "<style scoped>\n",
       "    .dataframe tbody tr th:only-of-type {\n",
       "        vertical-align: middle;\n",
       "    }\n",
       "\n",
       "    .dataframe tbody tr th {\n",
       "        vertical-align: top;\n",
       "    }\n",
       "\n",
       "    .dataframe thead th {\n",
       "        text-align: right;\n",
       "    }\n",
       "</style>\n",
       "<table border=\"1\" class=\"dataframe\">\n",
       "  <thead>\n",
       "    <tr style=\"text-align: right;\">\n",
       "      <th></th>\n",
       "      <th>2311</th>\n",
       "      <th>1607</th>\n",
       "      <th>1608</th>\n",
       "      <th>1609</th>\n",
       "      <th>1610</th>\n",
       "    </tr>\n",
       "  </thead>\n",
       "  <tbody>\n",
       "    <tr>\n",
       "      <th>Player</th>\n",
       "      <td>Jim Gallagher, Jr.</td>\n",
       "      <td>Freddie Jacobson</td>\n",
       "      <td>Matt Every</td>\n",
       "      <td>Steve Marino</td>\n",
       "      <td>Steve Lowery</td>\n",
       "    </tr>\n",
       "    <tr>\n",
       "      <th>Rounds</th>\n",
       "      <td>NaN</td>\n",
       "      <td>83</td>\n",
       "      <td>60</td>\n",
       "      <td>81</td>\n",
       "      <td>67</td>\n",
       "    </tr>\n",
       "    <tr>\n",
       "      <th>Fairway Percentage</th>\n",
       "      <td>NaN</td>\n",
       "      <td>62.16</td>\n",
       "      <td>62.06</td>\n",
       "      <td>61.96</td>\n",
       "      <td>61.9</td>\n",
       "    </tr>\n",
       "    <tr>\n",
       "      <th>Year</th>\n",
       "      <td>2010</td>\n",
       "      <td>2010</td>\n",
       "      <td>2010</td>\n",
       "      <td>2010</td>\n",
       "      <td>2010</td>\n",
       "    </tr>\n",
       "    <tr>\n",
       "      <th>Avg Distance</th>\n",
       "      <td>NaN</td>\n",
       "      <td>283.1</td>\n",
       "      <td>290.9</td>\n",
       "      <td>290.6</td>\n",
       "      <td>286.2</td>\n",
       "    </tr>\n",
       "    <tr>\n",
       "      <th>gir</th>\n",
       "      <td>NaN</td>\n",
       "      <td>67.8</td>\n",
       "      <td>64.75</td>\n",
       "      <td>67.49</td>\n",
       "      <td>65.52</td>\n",
       "    </tr>\n",
       "    <tr>\n",
       "      <th>Average Putts</th>\n",
       "      <td>NaN</td>\n",
       "      <td>28.93</td>\n",
       "      <td>28.93</td>\n",
       "      <td>29.53</td>\n",
       "      <td>30.03</td>\n",
       "    </tr>\n",
       "    <tr>\n",
       "      <th>Average Scrambling</th>\n",
       "      <td>NaN</td>\n",
       "      <td>63.2</td>\n",
       "      <td>57.61</td>\n",
       "      <td>56.33</td>\n",
       "      <td>50.38</td>\n",
       "    </tr>\n",
       "    <tr>\n",
       "      <th>Average Score</th>\n",
       "      <td>NaN</td>\n",
       "      <td>70.367</td>\n",
       "      <td>70.986</td>\n",
       "      <td>70.875</td>\n",
       "      <td>72.202</td>\n",
       "    </tr>\n",
       "    <tr>\n",
       "      <th>Points</th>\n",
       "      <td>NaN</td>\n",
       "      <td>826</td>\n",
       "      <td>322</td>\n",
       "      <td>636</td>\n",
       "      <td>67</td>\n",
       "    </tr>\n",
       "    <tr>\n",
       "      <th>Wins</th>\n",
       "      <td>NaN</td>\n",
       "      <td>NaN</td>\n",
       "      <td>NaN</td>\n",
       "      <td>NaN</td>\n",
       "      <td>NaN</td>\n",
       "    </tr>\n",
       "    <tr>\n",
       "      <th>Top_10</th>\n",
       "      <td>NaN</td>\n",
       "      <td>3</td>\n",
       "      <td>1</td>\n",
       "      <td>2</td>\n",
       "      <td>NaN</td>\n",
       "    </tr>\n",
       "    <tr>\n",
       "      <th>Average SG Putts</th>\n",
       "      <td>NaN</td>\n",
       "      <td>0.241</td>\n",
       "      <td>0.24</td>\n",
       "      <td>0.261</td>\n",
       "      <td>-0.386</td>\n",
       "    </tr>\n",
       "    <tr>\n",
       "      <th>Average SG Total</th>\n",
       "      <td>NaN</td>\n",
       "      <td>0.722</td>\n",
       "      <td>-0.073</td>\n",
       "      <td>0.567</td>\n",
       "      <td>-1.177</td>\n",
       "    </tr>\n",
       "    <tr>\n",
       "      <th>SG:OTT</th>\n",
       "      <td>NaN</td>\n",
       "      <td>-0.064</td>\n",
       "      <td>0.166</td>\n",
       "      <td>0.27</td>\n",
       "      <td>0.122</td>\n",
       "    </tr>\n",
       "    <tr>\n",
       "      <th>SG:APR</th>\n",
       "      <td>NaN</td>\n",
       "      <td>0.302</td>\n",
       "      <td>-0.292</td>\n",
       "      <td>-0.016</td>\n",
       "      <td>-0.31</td>\n",
       "    </tr>\n",
       "    <tr>\n",
       "      <th>SG:ARG</th>\n",
       "      <td>NaN</td>\n",
       "      <td>0.241</td>\n",
       "      <td>-0.185</td>\n",
       "      <td>0.053</td>\n",
       "      <td>-0.607</td>\n",
       "    </tr>\n",
       "    <tr>\n",
       "      <th>Money</th>\n",
       "      <td>6,552</td>\n",
       "      <td>1,666,252</td>\n",
       "      <td>456,847</td>\n",
       "      <td>1,479,239</td>\n",
       "      <td>118,602</td>\n",
       "    </tr>\n",
       "  </tbody>\n",
       "</table>\n",
       "</div>"
      ],
      "text/plain": [
       "                                  2311              1607        1608  \\\n",
       "Player              Jim Gallagher, Jr.  Freddie Jacobson  Matt Every   \n",
       "Rounds                             NaN                83          60   \n",
       "Fairway Percentage                 NaN             62.16       62.06   \n",
       "Year                              2010              2010        2010   \n",
       "Avg Distance                       NaN             283.1       290.9   \n",
       "gir                                NaN              67.8       64.75   \n",
       "Average Putts                      NaN             28.93       28.93   \n",
       "Average Scrambling                 NaN              63.2       57.61   \n",
       "Average Score                      NaN            70.367      70.986   \n",
       "Points                             NaN               826         322   \n",
       "Wins                               NaN               NaN         NaN   \n",
       "Top_10                             NaN                 3           1   \n",
       "Average SG Putts                   NaN             0.241        0.24   \n",
       "Average SG Total                   NaN             0.722      -0.073   \n",
       "SG:OTT                             NaN            -0.064       0.166   \n",
       "SG:APR                             NaN             0.302      -0.292   \n",
       "SG:ARG                             NaN             0.241      -0.185   \n",
       "Money                            6,552         1,666,252     456,847   \n",
       "\n",
       "                            1609          1610  \n",
       "Player              Steve Marino  Steve Lowery  \n",
       "Rounds                        81            67  \n",
       "Fairway Percentage         61.96          61.9  \n",
       "Year                        2010          2010  \n",
       "Avg Distance               290.6         286.2  \n",
       "gir                        67.49         65.52  \n",
       "Average Putts              29.53         30.03  \n",
       "Average Scrambling         56.33         50.38  \n",
       "Average Score             70.875        72.202  \n",
       "Points                       636            67  \n",
       "Wins                         NaN           NaN  \n",
       "Top_10                         2           NaN  \n",
       "Average SG Putts           0.261        -0.386  \n",
       "Average SG Total           0.567        -1.177  \n",
       "SG:OTT                      0.27         0.122  \n",
       "SG:APR                    -0.016         -0.31  \n",
       "SG:ARG                     0.053        -0.607  \n",
       "Money                  1,479,239       118,602  "
      ]
     },
     "execution_count": 296,
     "metadata": {},
     "output_type": "execute_result"
    }
   ],
   "source": [
    "df_tmp.head().T"
   ]
  },
  {
   "cell_type": "code",
   "execution_count": 297,
   "metadata": {},
   "outputs": [
    {
     "data": {
      "text/plain": [
       "Player                   0\n",
       "Rounds                 634\n",
       "Fairway Percentage     634\n",
       "Year                     0\n",
       "Avg Distance           634\n",
       "gir                    634\n",
       "Average Putts          634\n",
       "Average Scrambling     634\n",
       "Average Score          634\n",
       "Points                  16\n",
       "Wins                  2019\n",
       "Top_10                 854\n",
       "Average SG Putts       634\n",
       "Average SG Total       634\n",
       "SG:OTT                 634\n",
       "SG:APR                 634\n",
       "SG:ARG                 634\n",
       "Money                   12\n",
       "dtype: int64"
      ]
     },
     "execution_count": 297,
     "metadata": {},
     "output_type": "execute_result"
    }
   ],
   "source": [
    "df.isna().sum()"
   ]
  },
  {
   "cell_type": "markdown",
   "metadata": {},
   "source": [
    "## Fill missing values\n",
    "### Fill numerical missing values first"
   ]
  },
  {
   "cell_type": "code",
   "execution_count": 298,
   "metadata": {},
   "outputs": [
    {
     "name": "stdout",
     "output_type": "stream",
     "text": [
      "Rounds\n",
      "Fairway Percentage\n",
      "Year\n",
      "Avg Distance\n",
      "gir\n",
      "Average Putts\n",
      "Average Scrambling\n",
      "Average Score\n",
      "Wins\n",
      "Top_10\n",
      "Average SG Putts\n",
      "Average SG Total\n",
      "SG:OTT\n",
      "SG:APR\n",
      "SG:ARG\n"
     ]
    }
   ],
   "source": [
    "for label, content in df_tmp.items():\n",
    "    if pd.api.types.is_numeric_dtype(content):\n",
    "        print(label)"
   ]
  },
  {
   "cell_type": "code",
   "execution_count": 299,
   "metadata": {},
   "outputs": [
    {
     "data": {
      "text/plain": [
       "2311      NaN\n",
       "1607    67.80\n",
       "1608    64.75\n",
       "1609    67.49\n",
       "1610    65.52\n",
       "        ...  \n",
       "166     62.48\n",
       "165     64.59\n",
       "164     69.04\n",
       "179     67.08\n",
       "0       73.51\n",
       "Name: gir, Length: 2312, dtype: float64"
      ]
     },
     "execution_count": 299,
     "metadata": {},
     "output_type": "execute_result"
    }
   ],
   "source": [
    "df_tmp.gir"
   ]
  },
  {
   "cell_type": "code",
   "execution_count": 300,
   "metadata": {},
   "outputs": [
    {
     "name": "stdout",
     "output_type": "stream",
     "text": [
      "Rounds\n",
      "Fairway Percentage\n",
      "Avg Distance\n",
      "gir\n",
      "Average Putts\n",
      "Average Scrambling\n",
      "Average Score\n",
      "Wins\n",
      "Top_10\n",
      "Average SG Putts\n",
      "Average SG Total\n",
      "SG:OTT\n",
      "SG:APR\n",
      "SG:ARG\n"
     ]
    }
   ],
   "source": [
    "# Check for which numeric columns have null values\n",
    "for label, content in df_tmp.items():\n",
    "    if pd.api.types.is_numeric_dtype(content):\n",
    "        if pd.isnull(content).sum():\n",
    "            print(label)"
   ]
  },
  {
   "cell_type": "code",
   "execution_count": 301,
   "metadata": {},
   "outputs": [],
   "source": [
    "# Fill numeric rows with the median\n",
    "for label, content in df_tmp.items():\n",
    "    if pd.api.types.is_numeric_dtype(content):\n",
    "        if pd.isnull(content).sum():\n",
    "            # Add a binary column which tells is the data is missing or not\n",
    "            df_tmp[label+\"_is_missing\"] = pd.isnull(content)\n",
    "            # Fill the missing numeric values with median\n",
    "            df_tmp[label] = content.fillna(content.median())"
   ]
  },
  {
   "cell_type": "code",
   "execution_count": 302,
   "metadata": {},
   "outputs": [],
   "source": [
    "# Check if there's any null numeric values\n",
    "for label, content in df_tmp.items():\n",
    "    if pd.api.types.is_numeric_dtype(content):\n",
    "        if pd.isnull(content).sum():\n",
    "            print(label)"
   ]
  },
  {
   "cell_type": "code",
   "execution_count": 303,
   "metadata": {},
   "outputs": [
    {
     "data": {
      "text/plain": [
       "Player                            0\n",
       "Rounds                            0\n",
       "Fairway Percentage                0\n",
       "Year                              0\n",
       "Avg Distance                      0\n",
       "gir                               0\n",
       "Average Putts                     0\n",
       "Average Scrambling                0\n",
       "Average Score                     0\n",
       "Points                           16\n",
       "Wins                              0\n",
       "Top_10                            0\n",
       "Average SG Putts                  0\n",
       "Average SG Total                  0\n",
       "SG:OTT                            0\n",
       "SG:APR                            0\n",
       "SG:ARG                            0\n",
       "Money                            12\n",
       "Rounds_is_missing                 0\n",
       "Fairway Percentage_is_missing     0\n",
       "Avg Distance_is_missing           0\n",
       "gir_is_missing                    0\n",
       "Average Putts_is_missing          0\n",
       "Average Scrambling_is_missing     0\n",
       "Average Score_is_missing          0\n",
       "Wins_is_missing                   0\n",
       "Top_10_is_missing                 0\n",
       "Average SG Putts_is_missing       0\n",
       "Average SG Total_is_missing       0\n",
       "SG:OTT_is_missing                 0\n",
       "SG:APR_is_missing                 0\n",
       "SG:ARG_is_missing                 0\n",
       "dtype: int64"
      ]
     },
     "execution_count": 303,
     "metadata": {},
     "output_type": "execute_result"
    }
   ],
   "source": [
    "df_tmp.isna().sum()"
   ]
  },
  {
   "cell_type": "markdown",
   "metadata": {},
   "source": [
    "### Filling and turning categorical variables into numbers"
   ]
  },
  {
   "cell_type": "code",
   "execution_count": 304,
   "metadata": {},
   "outputs": [
    {
     "name": "stdout",
     "output_type": "stream",
     "text": [
      "Player\n",
      "Points\n",
      "Money\n"
     ]
    }
   ],
   "source": [
    "# Check for columns which aren't numeric\n",
    "for label, content in df_tmp.items():\n",
    "    if not pd.api.types.is_numeric_dtype(content):\n",
    "        print(label)"
   ]
  },
  {
   "cell_type": "code",
   "execution_count": 305,
   "metadata": {},
   "outputs": [],
   "source": [
    "# Turn categorical variables into numbers and fill missing\n",
    "for label, content in df_tmp.items():\n",
    "    if not pd.api.types.is_numeric_dtype(content):\n",
    "        # Add binary column to indicate whether sample had missing value\n",
    "        df_tmp[label+\"_is_missing\"] = pd.isnull(content)\n",
    "        # Turn categories into numbers and add +1\n",
    "        df_tmp[label] = pd.Categorical(content).codes+1"
   ]
  },
  {
   "cell_type": "code",
   "execution_count": 306,
   "metadata": {},
   "outputs": [
    {
     "data": {
      "text/plain": [
       "array([234, 170, 325, ..., 366, 485, 195], dtype=int16)"
      ]
     },
     "execution_count": 306,
     "metadata": {},
     "output_type": "execute_result"
    }
   ],
   "source": [
    "pd.Categorical(df_tmp[\"Player\"]).codes+1"
   ]
  },
  {
   "cell_type": "code",
   "execution_count": 307,
   "metadata": {},
   "outputs": [
    {
     "name": "stdout",
     "output_type": "stream",
     "text": [
      "<class 'pandas.core.frame.DataFrame'>\n",
      "Int64Index: 2312 entries, 2311 to 0\n",
      "Data columns (total 35 columns):\n",
      " #   Column                         Non-Null Count  Dtype  \n",
      "---  ------                         --------------  -----  \n",
      " 0   Player                         2312 non-null   int16  \n",
      " 1   Rounds                         2312 non-null   float64\n",
      " 2   Fairway Percentage             2312 non-null   float64\n",
      " 3   Year                           2312 non-null   int64  \n",
      " 4   Avg Distance                   2312 non-null   float64\n",
      " 5   gir                            2312 non-null   float64\n",
      " 6   Average Putts                  2312 non-null   float64\n",
      " 7   Average Scrambling             2312 non-null   float64\n",
      " 8   Average Score                  2312 non-null   float64\n",
      " 9   Points                         2312 non-null   int16  \n",
      " 10  Wins                           2312 non-null   float64\n",
      " 11  Top_10                         2312 non-null   float64\n",
      " 12  Average SG Putts               2312 non-null   float64\n",
      " 13  Average SG Total               2312 non-null   float64\n",
      " 14  SG:OTT                         2312 non-null   float64\n",
      " 15  SG:APR                         2312 non-null   float64\n",
      " 16  SG:ARG                         2312 non-null   float64\n",
      " 17  Money                          2312 non-null   int16  \n",
      " 18  Rounds_is_missing              2312 non-null   bool   \n",
      " 19  Fairway Percentage_is_missing  2312 non-null   bool   \n",
      " 20  Avg Distance_is_missing        2312 non-null   bool   \n",
      " 21  gir_is_missing                 2312 non-null   bool   \n",
      " 22  Average Putts_is_missing       2312 non-null   bool   \n",
      " 23  Average Scrambling_is_missing  2312 non-null   bool   \n",
      " 24  Average Score_is_missing       2312 non-null   bool   \n",
      " 25  Wins_is_missing                2312 non-null   bool   \n",
      " 26  Top_10_is_missing              2312 non-null   bool   \n",
      " 27  Average SG Putts_is_missing    2312 non-null   bool   \n",
      " 28  Average SG Total_is_missing    2312 non-null   bool   \n",
      " 29  SG:OTT_is_missing              2312 non-null   bool   \n",
      " 30  SG:APR_is_missing              2312 non-null   bool   \n",
      " 31  SG:ARG_is_missing              2312 non-null   bool   \n",
      " 32  Player_is_missing              2312 non-null   bool   \n",
      " 33  Points_is_missing              2312 non-null   bool   \n",
      " 34  Money_is_missing               2312 non-null   bool   \n",
      "dtypes: bool(17), float64(14), int16(3), int64(1)\n",
      "memory usage: 340.9 KB\n"
     ]
    }
   ],
   "source": [
    "df_tmp.info()"
   ]
  },
  {
   "cell_type": "code",
   "execution_count": 308,
   "metadata": {},
   "outputs": [
    {
     "data": {
      "text/html": [
       "<div>\n",
       "<style scoped>\n",
       "    .dataframe tbody tr th:only-of-type {\n",
       "        vertical-align: middle;\n",
       "    }\n",
       "\n",
       "    .dataframe tbody tr th {\n",
       "        vertical-align: top;\n",
       "    }\n",
       "\n",
       "    .dataframe thead th {\n",
       "        text-align: right;\n",
       "    }\n",
       "</style>\n",
       "<table border=\"1\" class=\"dataframe\">\n",
       "  <thead>\n",
       "    <tr style=\"text-align: right;\">\n",
       "      <th></th>\n",
       "      <th>2311</th>\n",
       "      <th>1607</th>\n",
       "      <th>1608</th>\n",
       "      <th>1609</th>\n",
       "      <th>1610</th>\n",
       "    </tr>\n",
       "  </thead>\n",
       "  <tbody>\n",
       "    <tr>\n",
       "      <th>Player</th>\n",
       "      <td>234</td>\n",
       "      <td>170</td>\n",
       "      <td>325</td>\n",
       "      <td>457</td>\n",
       "      <td>456</td>\n",
       "    </tr>\n",
       "    <tr>\n",
       "      <th>Rounds</th>\n",
       "      <td>79.5</td>\n",
       "      <td>83</td>\n",
       "      <td>60</td>\n",
       "      <td>81</td>\n",
       "      <td>67</td>\n",
       "    </tr>\n",
       "    <tr>\n",
       "      <th>Fairway Percentage</th>\n",
       "      <td>61.43</td>\n",
       "      <td>62.16</td>\n",
       "      <td>62.06</td>\n",
       "      <td>61.96</td>\n",
       "      <td>61.9</td>\n",
       "    </tr>\n",
       "    <tr>\n",
       "      <th>Year</th>\n",
       "      <td>2010</td>\n",
       "      <td>2010</td>\n",
       "      <td>2010</td>\n",
       "      <td>2010</td>\n",
       "      <td>2010</td>\n",
       "    </tr>\n",
       "    <tr>\n",
       "      <th>Avg Distance</th>\n",
       "      <td>290.55</td>\n",
       "      <td>283.1</td>\n",
       "      <td>290.9</td>\n",
       "      <td>290.6</td>\n",
       "      <td>286.2</td>\n",
       "    </tr>\n",
       "    <tr>\n",
       "      <th>gir</th>\n",
       "      <td>65.79</td>\n",
       "      <td>67.8</td>\n",
       "      <td>64.75</td>\n",
       "      <td>67.49</td>\n",
       "      <td>65.52</td>\n",
       "    </tr>\n",
       "    <tr>\n",
       "      <th>Average Putts</th>\n",
       "      <td>29.14</td>\n",
       "      <td>28.93</td>\n",
       "      <td>28.93</td>\n",
       "      <td>29.53</td>\n",
       "      <td>30.03</td>\n",
       "    </tr>\n",
       "    <tr>\n",
       "      <th>Average Scrambling</th>\n",
       "      <td>58.275</td>\n",
       "      <td>63.2</td>\n",
       "      <td>57.61</td>\n",
       "      <td>56.33</td>\n",
       "      <td>50.38</td>\n",
       "    </tr>\n",
       "    <tr>\n",
       "      <th>Average Score</th>\n",
       "      <td>70.902</td>\n",
       "      <td>70.367</td>\n",
       "      <td>70.986</td>\n",
       "      <td>70.875</td>\n",
       "      <td>72.202</td>\n",
       "    </tr>\n",
       "    <tr>\n",
       "      <th>Points</th>\n",
       "      <td>0</td>\n",
       "      <td>929</td>\n",
       "      <td>461</td>\n",
       "      <td>768</td>\n",
       "      <td>798</td>\n",
       "    </tr>\n",
       "    <tr>\n",
       "      <th>Wins</th>\n",
       "      <td>1</td>\n",
       "      <td>1</td>\n",
       "      <td>1</td>\n",
       "      <td>1</td>\n",
       "      <td>1</td>\n",
       "    </tr>\n",
       "    <tr>\n",
       "      <th>Top_10</th>\n",
       "      <td>2</td>\n",
       "      <td>3</td>\n",
       "      <td>1</td>\n",
       "      <td>2</td>\n",
       "      <td>2</td>\n",
       "    </tr>\n",
       "    <tr>\n",
       "      <th>Average SG Putts</th>\n",
       "      <td>0.04</td>\n",
       "      <td>0.241</td>\n",
       "      <td>0.24</td>\n",
       "      <td>0.261</td>\n",
       "      <td>-0.386</td>\n",
       "    </tr>\n",
       "    <tr>\n",
       "      <th>Average SG Total</th>\n",
       "      <td>0.147</td>\n",
       "      <td>0.722</td>\n",
       "      <td>-0.073</td>\n",
       "      <td>0.567</td>\n",
       "      <td>-1.177</td>\n",
       "    </tr>\n",
       "    <tr>\n",
       "      <th>SG:OTT</th>\n",
       "      <td>0.056</td>\n",
       "      <td>-0.064</td>\n",
       "      <td>0.166</td>\n",
       "      <td>0.27</td>\n",
       "      <td>0.122</td>\n",
       "    </tr>\n",
       "    <tr>\n",
       "      <th>SG:APR</th>\n",
       "      <td>0.081</td>\n",
       "      <td>0.302</td>\n",
       "      <td>-0.292</td>\n",
       "      <td>-0.016</td>\n",
       "      <td>-0.31</td>\n",
       "    </tr>\n",
       "    <tr>\n",
       "      <th>SG:ARG</th>\n",
       "      <td>0.022</td>\n",
       "      <td>0.241</td>\n",
       "      <td>-0.185</td>\n",
       "      <td>0.053</td>\n",
       "      <td>-0.607</td>\n",
       "    </tr>\n",
       "    <tr>\n",
       "      <th>Money</th>\n",
       "      <td>2213</td>\n",
       "      <td>2083</td>\n",
       "      <td>2192</td>\n",
       "      <td>2066</td>\n",
       "      <td>2096</td>\n",
       "    </tr>\n",
       "    <tr>\n",
       "      <th>Rounds_is_missing</th>\n",
       "      <td>True</td>\n",
       "      <td>False</td>\n",
       "      <td>False</td>\n",
       "      <td>False</td>\n",
       "      <td>False</td>\n",
       "    </tr>\n",
       "    <tr>\n",
       "      <th>Fairway Percentage_is_missing</th>\n",
       "      <td>True</td>\n",
       "      <td>False</td>\n",
       "      <td>False</td>\n",
       "      <td>False</td>\n",
       "      <td>False</td>\n",
       "    </tr>\n",
       "    <tr>\n",
       "      <th>Avg Distance_is_missing</th>\n",
       "      <td>True</td>\n",
       "      <td>False</td>\n",
       "      <td>False</td>\n",
       "      <td>False</td>\n",
       "      <td>False</td>\n",
       "    </tr>\n",
       "    <tr>\n",
       "      <th>gir_is_missing</th>\n",
       "      <td>True</td>\n",
       "      <td>False</td>\n",
       "      <td>False</td>\n",
       "      <td>False</td>\n",
       "      <td>False</td>\n",
       "    </tr>\n",
       "    <tr>\n",
       "      <th>Average Putts_is_missing</th>\n",
       "      <td>True</td>\n",
       "      <td>False</td>\n",
       "      <td>False</td>\n",
       "      <td>False</td>\n",
       "      <td>False</td>\n",
       "    </tr>\n",
       "    <tr>\n",
       "      <th>Average Scrambling_is_missing</th>\n",
       "      <td>True</td>\n",
       "      <td>False</td>\n",
       "      <td>False</td>\n",
       "      <td>False</td>\n",
       "      <td>False</td>\n",
       "    </tr>\n",
       "    <tr>\n",
       "      <th>Average Score_is_missing</th>\n",
       "      <td>True</td>\n",
       "      <td>False</td>\n",
       "      <td>False</td>\n",
       "      <td>False</td>\n",
       "      <td>False</td>\n",
       "    </tr>\n",
       "    <tr>\n",
       "      <th>Wins_is_missing</th>\n",
       "      <td>True</td>\n",
       "      <td>True</td>\n",
       "      <td>True</td>\n",
       "      <td>True</td>\n",
       "      <td>True</td>\n",
       "    </tr>\n",
       "    <tr>\n",
       "      <th>Top_10_is_missing</th>\n",
       "      <td>True</td>\n",
       "      <td>False</td>\n",
       "      <td>False</td>\n",
       "      <td>False</td>\n",
       "      <td>True</td>\n",
       "    </tr>\n",
       "    <tr>\n",
       "      <th>Average SG Putts_is_missing</th>\n",
       "      <td>True</td>\n",
       "      <td>False</td>\n",
       "      <td>False</td>\n",
       "      <td>False</td>\n",
       "      <td>False</td>\n",
       "    </tr>\n",
       "    <tr>\n",
       "      <th>Average SG Total_is_missing</th>\n",
       "      <td>True</td>\n",
       "      <td>False</td>\n",
       "      <td>False</td>\n",
       "      <td>False</td>\n",
       "      <td>False</td>\n",
       "    </tr>\n",
       "    <tr>\n",
       "      <th>SG:OTT_is_missing</th>\n",
       "      <td>True</td>\n",
       "      <td>False</td>\n",
       "      <td>False</td>\n",
       "      <td>False</td>\n",
       "      <td>False</td>\n",
       "    </tr>\n",
       "    <tr>\n",
       "      <th>SG:APR_is_missing</th>\n",
       "      <td>True</td>\n",
       "      <td>False</td>\n",
       "      <td>False</td>\n",
       "      <td>False</td>\n",
       "      <td>False</td>\n",
       "    </tr>\n",
       "    <tr>\n",
       "      <th>SG:ARG_is_missing</th>\n",
       "      <td>True</td>\n",
       "      <td>False</td>\n",
       "      <td>False</td>\n",
       "      <td>False</td>\n",
       "      <td>False</td>\n",
       "    </tr>\n",
       "    <tr>\n",
       "      <th>Player_is_missing</th>\n",
       "      <td>False</td>\n",
       "      <td>False</td>\n",
       "      <td>False</td>\n",
       "      <td>False</td>\n",
       "      <td>False</td>\n",
       "    </tr>\n",
       "    <tr>\n",
       "      <th>Points_is_missing</th>\n",
       "      <td>True</td>\n",
       "      <td>False</td>\n",
       "      <td>False</td>\n",
       "      <td>False</td>\n",
       "      <td>False</td>\n",
       "    </tr>\n",
       "    <tr>\n",
       "      <th>Money_is_missing</th>\n",
       "      <td>False</td>\n",
       "      <td>False</td>\n",
       "      <td>False</td>\n",
       "      <td>False</td>\n",
       "      <td>False</td>\n",
       "    </tr>\n",
       "  </tbody>\n",
       "</table>\n",
       "</div>"
      ],
      "text/plain": [
       "                                 2311    1607    1608    1609    1610\n",
       "Player                            234     170     325     457     456\n",
       "Rounds                           79.5      83      60      81      67\n",
       "Fairway Percentage              61.43   62.16   62.06   61.96    61.9\n",
       "Year                             2010    2010    2010    2010    2010\n",
       "Avg Distance                   290.55   283.1   290.9   290.6   286.2\n",
       "gir                             65.79    67.8   64.75   67.49   65.52\n",
       "Average Putts                   29.14   28.93   28.93   29.53   30.03\n",
       "Average Scrambling             58.275    63.2   57.61   56.33   50.38\n",
       "Average Score                  70.902  70.367  70.986  70.875  72.202\n",
       "Points                              0     929     461     768     798\n",
       "Wins                                1       1       1       1       1\n",
       "Top_10                              2       3       1       2       2\n",
       "Average SG Putts                 0.04   0.241    0.24   0.261  -0.386\n",
       "Average SG Total                0.147   0.722  -0.073   0.567  -1.177\n",
       "SG:OTT                          0.056  -0.064   0.166    0.27   0.122\n",
       "SG:APR                          0.081   0.302  -0.292  -0.016   -0.31\n",
       "SG:ARG                          0.022   0.241  -0.185   0.053  -0.607\n",
       "Money                            2213    2083    2192    2066    2096\n",
       "Rounds_is_missing                True   False   False   False   False\n",
       "Fairway Percentage_is_missing    True   False   False   False   False\n",
       "Avg Distance_is_missing          True   False   False   False   False\n",
       "gir_is_missing                   True   False   False   False   False\n",
       "Average Putts_is_missing         True   False   False   False   False\n",
       "Average Scrambling_is_missing    True   False   False   False   False\n",
       "Average Score_is_missing         True   False   False   False   False\n",
       "Wins_is_missing                  True    True    True    True    True\n",
       "Top_10_is_missing                True   False   False   False    True\n",
       "Average SG Putts_is_missing      True   False   False   False   False\n",
       "Average SG Total_is_missing      True   False   False   False   False\n",
       "SG:OTT_is_missing                True   False   False   False   False\n",
       "SG:APR_is_missing                True   False   False   False   False\n",
       "SG:ARG_is_missing                True   False   False   False   False\n",
       "Player_is_missing               False   False   False   False   False\n",
       "Points_is_missing                True   False   False   False   False\n",
       "Money_is_missing                False   False   False   False   False"
      ]
     },
     "execution_count": 308,
     "metadata": {},
     "output_type": "execute_result"
    }
   ],
   "source": [
    "df_tmp.head().T"
   ]
  },
  {
   "cell_type": "code",
   "execution_count": 309,
   "metadata": {},
   "outputs": [
    {
     "data": {
      "text/plain": [
       "Player                           0\n",
       "Rounds                           0\n",
       "Fairway Percentage               0\n",
       "Year                             0\n",
       "Avg Distance                     0\n",
       "gir                              0\n",
       "Average Putts                    0\n",
       "Average Scrambling               0\n",
       "Average Score                    0\n",
       "Points                           0\n",
       "Wins                             0\n",
       "Top_10                           0\n",
       "Average SG Putts                 0\n",
       "Average SG Total                 0\n",
       "SG:OTT                           0\n",
       "SG:APR                           0\n",
       "SG:ARG                           0\n",
       "Money                            0\n",
       "Rounds_is_missing                0\n",
       "Fairway Percentage_is_missing    0\n",
       "Avg Distance_is_missing          0\n",
       "gir_is_missing                   0\n",
       "Average Putts_is_missing         0\n",
       "Average Scrambling_is_missing    0\n",
       "Average Score_is_missing         0\n",
       "Wins_is_missing                  0\n",
       "Top_10_is_missing                0\n",
       "Average SG Putts_is_missing      0\n",
       "Average SG Total_is_missing      0\n",
       "SG:OTT_is_missing                0\n",
       "SG:APR_is_missing                0\n",
       "SG:ARG_is_missing                0\n",
       "Player_is_missing                0\n",
       "Points_is_missing                0\n",
       "Money_is_missing                 0\n",
       "dtype: int64"
      ]
     },
     "execution_count": 309,
     "metadata": {},
     "output_type": "execute_result"
    }
   ],
   "source": [
    "df_tmp.isna().sum()"
   ]
  },
  {
   "cell_type": "code",
   "execution_count": 310,
   "metadata": {},
   "outputs": [
    {
     "data": {
      "text/html": [
       "<div>\n",
       "<style scoped>\n",
       "    .dataframe tbody tr th:only-of-type {\n",
       "        vertical-align: middle;\n",
       "    }\n",
       "\n",
       "    .dataframe tbody tr th {\n",
       "        vertical-align: top;\n",
       "    }\n",
       "\n",
       "    .dataframe thead th {\n",
       "        text-align: right;\n",
       "    }\n",
       "</style>\n",
       "<table border=\"1\" class=\"dataframe\">\n",
       "  <thead>\n",
       "    <tr style=\"text-align: right;\">\n",
       "      <th></th>\n",
       "      <th>2311</th>\n",
       "      <th>1607</th>\n",
       "      <th>1608</th>\n",
       "      <th>1609</th>\n",
       "      <th>1610</th>\n",
       "    </tr>\n",
       "  </thead>\n",
       "  <tbody>\n",
       "    <tr>\n",
       "      <th>Player</th>\n",
       "      <td>234</td>\n",
       "      <td>170</td>\n",
       "      <td>325</td>\n",
       "      <td>457</td>\n",
       "      <td>456</td>\n",
       "    </tr>\n",
       "    <tr>\n",
       "      <th>Rounds</th>\n",
       "      <td>79.5</td>\n",
       "      <td>83</td>\n",
       "      <td>60</td>\n",
       "      <td>81</td>\n",
       "      <td>67</td>\n",
       "    </tr>\n",
       "    <tr>\n",
       "      <th>Fairway Percentage</th>\n",
       "      <td>61.43</td>\n",
       "      <td>62.16</td>\n",
       "      <td>62.06</td>\n",
       "      <td>61.96</td>\n",
       "      <td>61.9</td>\n",
       "    </tr>\n",
       "    <tr>\n",
       "      <th>Year</th>\n",
       "      <td>2010</td>\n",
       "      <td>2010</td>\n",
       "      <td>2010</td>\n",
       "      <td>2010</td>\n",
       "      <td>2010</td>\n",
       "    </tr>\n",
       "    <tr>\n",
       "      <th>Avg Distance</th>\n",
       "      <td>290.55</td>\n",
       "      <td>283.1</td>\n",
       "      <td>290.9</td>\n",
       "      <td>290.6</td>\n",
       "      <td>286.2</td>\n",
       "    </tr>\n",
       "    <tr>\n",
       "      <th>gir</th>\n",
       "      <td>65.79</td>\n",
       "      <td>67.8</td>\n",
       "      <td>64.75</td>\n",
       "      <td>67.49</td>\n",
       "      <td>65.52</td>\n",
       "    </tr>\n",
       "    <tr>\n",
       "      <th>Average Putts</th>\n",
       "      <td>29.14</td>\n",
       "      <td>28.93</td>\n",
       "      <td>28.93</td>\n",
       "      <td>29.53</td>\n",
       "      <td>30.03</td>\n",
       "    </tr>\n",
       "    <tr>\n",
       "      <th>Average Scrambling</th>\n",
       "      <td>58.275</td>\n",
       "      <td>63.2</td>\n",
       "      <td>57.61</td>\n",
       "      <td>56.33</td>\n",
       "      <td>50.38</td>\n",
       "    </tr>\n",
       "    <tr>\n",
       "      <th>Average Score</th>\n",
       "      <td>70.902</td>\n",
       "      <td>70.367</td>\n",
       "      <td>70.986</td>\n",
       "      <td>70.875</td>\n",
       "      <td>72.202</td>\n",
       "    </tr>\n",
       "    <tr>\n",
       "      <th>Points</th>\n",
       "      <td>0</td>\n",
       "      <td>929</td>\n",
       "      <td>461</td>\n",
       "      <td>768</td>\n",
       "      <td>798</td>\n",
       "    </tr>\n",
       "    <tr>\n",
       "      <th>Wins</th>\n",
       "      <td>1</td>\n",
       "      <td>1</td>\n",
       "      <td>1</td>\n",
       "      <td>1</td>\n",
       "      <td>1</td>\n",
       "    </tr>\n",
       "    <tr>\n",
       "      <th>Top_10</th>\n",
       "      <td>2</td>\n",
       "      <td>3</td>\n",
       "      <td>1</td>\n",
       "      <td>2</td>\n",
       "      <td>2</td>\n",
       "    </tr>\n",
       "    <tr>\n",
       "      <th>Average SG Putts</th>\n",
       "      <td>0.04</td>\n",
       "      <td>0.241</td>\n",
       "      <td>0.24</td>\n",
       "      <td>0.261</td>\n",
       "      <td>-0.386</td>\n",
       "    </tr>\n",
       "    <tr>\n",
       "      <th>Average SG Total</th>\n",
       "      <td>0.147</td>\n",
       "      <td>0.722</td>\n",
       "      <td>-0.073</td>\n",
       "      <td>0.567</td>\n",
       "      <td>-1.177</td>\n",
       "    </tr>\n",
       "    <tr>\n",
       "      <th>SG:OTT</th>\n",
       "      <td>0.056</td>\n",
       "      <td>-0.064</td>\n",
       "      <td>0.166</td>\n",
       "      <td>0.27</td>\n",
       "      <td>0.122</td>\n",
       "    </tr>\n",
       "    <tr>\n",
       "      <th>SG:APR</th>\n",
       "      <td>0.081</td>\n",
       "      <td>0.302</td>\n",
       "      <td>-0.292</td>\n",
       "      <td>-0.016</td>\n",
       "      <td>-0.31</td>\n",
       "    </tr>\n",
       "    <tr>\n",
       "      <th>SG:ARG</th>\n",
       "      <td>0.022</td>\n",
       "      <td>0.241</td>\n",
       "      <td>-0.185</td>\n",
       "      <td>0.053</td>\n",
       "      <td>-0.607</td>\n",
       "    </tr>\n",
       "    <tr>\n",
       "      <th>Money</th>\n",
       "      <td>2213</td>\n",
       "      <td>2083</td>\n",
       "      <td>2192</td>\n",
       "      <td>2066</td>\n",
       "      <td>2096</td>\n",
       "    </tr>\n",
       "    <tr>\n",
       "      <th>Rounds_is_missing</th>\n",
       "      <td>True</td>\n",
       "      <td>False</td>\n",
       "      <td>False</td>\n",
       "      <td>False</td>\n",
       "      <td>False</td>\n",
       "    </tr>\n",
       "    <tr>\n",
       "      <th>Fairway Percentage_is_missing</th>\n",
       "      <td>True</td>\n",
       "      <td>False</td>\n",
       "      <td>False</td>\n",
       "      <td>False</td>\n",
       "      <td>False</td>\n",
       "    </tr>\n",
       "    <tr>\n",
       "      <th>Avg Distance_is_missing</th>\n",
       "      <td>True</td>\n",
       "      <td>False</td>\n",
       "      <td>False</td>\n",
       "      <td>False</td>\n",
       "      <td>False</td>\n",
       "    </tr>\n",
       "    <tr>\n",
       "      <th>gir_is_missing</th>\n",
       "      <td>True</td>\n",
       "      <td>False</td>\n",
       "      <td>False</td>\n",
       "      <td>False</td>\n",
       "      <td>False</td>\n",
       "    </tr>\n",
       "    <tr>\n",
       "      <th>Average Putts_is_missing</th>\n",
       "      <td>True</td>\n",
       "      <td>False</td>\n",
       "      <td>False</td>\n",
       "      <td>False</td>\n",
       "      <td>False</td>\n",
       "    </tr>\n",
       "    <tr>\n",
       "      <th>Average Scrambling_is_missing</th>\n",
       "      <td>True</td>\n",
       "      <td>False</td>\n",
       "      <td>False</td>\n",
       "      <td>False</td>\n",
       "      <td>False</td>\n",
       "    </tr>\n",
       "    <tr>\n",
       "      <th>Average Score_is_missing</th>\n",
       "      <td>True</td>\n",
       "      <td>False</td>\n",
       "      <td>False</td>\n",
       "      <td>False</td>\n",
       "      <td>False</td>\n",
       "    </tr>\n",
       "    <tr>\n",
       "      <th>Wins_is_missing</th>\n",
       "      <td>True</td>\n",
       "      <td>True</td>\n",
       "      <td>True</td>\n",
       "      <td>True</td>\n",
       "      <td>True</td>\n",
       "    </tr>\n",
       "    <tr>\n",
       "      <th>Top_10_is_missing</th>\n",
       "      <td>True</td>\n",
       "      <td>False</td>\n",
       "      <td>False</td>\n",
       "      <td>False</td>\n",
       "      <td>True</td>\n",
       "    </tr>\n",
       "    <tr>\n",
       "      <th>Average SG Putts_is_missing</th>\n",
       "      <td>True</td>\n",
       "      <td>False</td>\n",
       "      <td>False</td>\n",
       "      <td>False</td>\n",
       "      <td>False</td>\n",
       "    </tr>\n",
       "    <tr>\n",
       "      <th>Average SG Total_is_missing</th>\n",
       "      <td>True</td>\n",
       "      <td>False</td>\n",
       "      <td>False</td>\n",
       "      <td>False</td>\n",
       "      <td>False</td>\n",
       "    </tr>\n",
       "    <tr>\n",
       "      <th>SG:OTT_is_missing</th>\n",
       "      <td>True</td>\n",
       "      <td>False</td>\n",
       "      <td>False</td>\n",
       "      <td>False</td>\n",
       "      <td>False</td>\n",
       "    </tr>\n",
       "    <tr>\n",
       "      <th>SG:APR_is_missing</th>\n",
       "      <td>True</td>\n",
       "      <td>False</td>\n",
       "      <td>False</td>\n",
       "      <td>False</td>\n",
       "      <td>False</td>\n",
       "    </tr>\n",
       "    <tr>\n",
       "      <th>SG:ARG_is_missing</th>\n",
       "      <td>True</td>\n",
       "      <td>False</td>\n",
       "      <td>False</td>\n",
       "      <td>False</td>\n",
       "      <td>False</td>\n",
       "    </tr>\n",
       "    <tr>\n",
       "      <th>Player_is_missing</th>\n",
       "      <td>False</td>\n",
       "      <td>False</td>\n",
       "      <td>False</td>\n",
       "      <td>False</td>\n",
       "      <td>False</td>\n",
       "    </tr>\n",
       "    <tr>\n",
       "      <th>Points_is_missing</th>\n",
       "      <td>True</td>\n",
       "      <td>False</td>\n",
       "      <td>False</td>\n",
       "      <td>False</td>\n",
       "      <td>False</td>\n",
       "    </tr>\n",
       "    <tr>\n",
       "      <th>Money_is_missing</th>\n",
       "      <td>False</td>\n",
       "      <td>False</td>\n",
       "      <td>False</td>\n",
       "      <td>False</td>\n",
       "      <td>False</td>\n",
       "    </tr>\n",
       "    <tr>\n",
       "      <th>Best</th>\n",
       "      <td>3</td>\n",
       "      <td>4</td>\n",
       "      <td>2</td>\n",
       "      <td>3</td>\n",
       "      <td>3</td>\n",
       "    </tr>\n",
       "  </tbody>\n",
       "</table>\n",
       "</div>"
      ],
      "text/plain": [
       "                                 2311    1607    1608    1609    1610\n",
       "Player                            234     170     325     457     456\n",
       "Rounds                           79.5      83      60      81      67\n",
       "Fairway Percentage              61.43   62.16   62.06   61.96    61.9\n",
       "Year                             2010    2010    2010    2010    2010\n",
       "Avg Distance                   290.55   283.1   290.9   290.6   286.2\n",
       "gir                             65.79    67.8   64.75   67.49   65.52\n",
       "Average Putts                   29.14   28.93   28.93   29.53   30.03\n",
       "Average Scrambling             58.275    63.2   57.61   56.33   50.38\n",
       "Average Score                  70.902  70.367  70.986  70.875  72.202\n",
       "Points                              0     929     461     768     798\n",
       "Wins                                1       1       1       1       1\n",
       "Top_10                              2       3       1       2       2\n",
       "Average SG Putts                 0.04   0.241    0.24   0.261  -0.386\n",
       "Average SG Total                0.147   0.722  -0.073   0.567  -1.177\n",
       "SG:OTT                          0.056  -0.064   0.166    0.27   0.122\n",
       "SG:APR                          0.081   0.302  -0.292  -0.016   -0.31\n",
       "SG:ARG                          0.022   0.241  -0.185   0.053  -0.607\n",
       "Money                            2213    2083    2192    2066    2096\n",
       "Rounds_is_missing                True   False   False   False   False\n",
       "Fairway Percentage_is_missing    True   False   False   False   False\n",
       "Avg Distance_is_missing          True   False   False   False   False\n",
       "gir_is_missing                   True   False   False   False   False\n",
       "Average Putts_is_missing         True   False   False   False   False\n",
       "Average Scrambling_is_missing    True   False   False   False   False\n",
       "Average Score_is_missing         True   False   False   False   False\n",
       "Wins_is_missing                  True    True    True    True    True\n",
       "Top_10_is_missing                True   False   False   False    True\n",
       "Average SG Putts_is_missing      True   False   False   False   False\n",
       "Average SG Total_is_missing      True   False   False   False   False\n",
       "SG:OTT_is_missing                True   False   False   False   False\n",
       "SG:APR_is_missing                True   False   False   False   False\n",
       "SG:ARG_is_missing                True   False   False   False   False\n",
       "Player_is_missing               False   False   False   False   False\n",
       "Points_is_missing                True   False   False   False   False\n",
       "Money_is_missing                False   False   False   False   False\n",
       "Best                                3       4       2       3       3"
      ]
     },
     "execution_count": 310,
     "metadata": {},
     "output_type": "execute_result"
    }
   ],
   "source": [
    "## Combine target values of Wins and Top_10 and create Best Category\n",
    "df_tmp['Best'] = df_tmp['Wins'] + df_tmp['Top_10']\n",
    "df_tmp.head().T"
   ]
  },
  {
   "cell_type": "code",
   "execution_count": 311,
   "metadata": {},
   "outputs": [
    {
     "data": {
      "text/plain": [
       "2312"
      ]
     },
     "execution_count": 311,
     "metadata": {},
     "output_type": "execute_result"
    }
   ],
   "source": [
    "len(df_tmp)"
   ]
  },
  {
   "cell_type": "markdown",
   "metadata": {},
   "source": [
    "## Splitting data into train & test sets"
   ]
  },
  {
   "cell_type": "code",
   "execution_count": 312,
   "metadata": {},
   "outputs": [],
   "source": [
    "# Split data into X and y\n",
    "X = df_tmp.drop(\"Best\", axis=1)\n",
    "\n",
    "y = df_tmp[\"Best\"]"
   ]
  },
  {
   "cell_type": "code",
   "execution_count": 313,
   "metadata": {},
   "outputs": [
    {
     "data": {
      "text/html": [
       "<div>\n",
       "<style scoped>\n",
       "    .dataframe tbody tr th:only-of-type {\n",
       "        vertical-align: middle;\n",
       "    }\n",
       "\n",
       "    .dataframe tbody tr th {\n",
       "        vertical-align: top;\n",
       "    }\n",
       "\n",
       "    .dataframe thead th {\n",
       "        text-align: right;\n",
       "    }\n",
       "</style>\n",
       "<table border=\"1\" class=\"dataframe\">\n",
       "  <thead>\n",
       "    <tr style=\"text-align: right;\">\n",
       "      <th></th>\n",
       "      <th>2311</th>\n",
       "      <th>1607</th>\n",
       "      <th>1608</th>\n",
       "      <th>1609</th>\n",
       "      <th>1610</th>\n",
       "    </tr>\n",
       "  </thead>\n",
       "  <tbody>\n",
       "    <tr>\n",
       "      <th>Player</th>\n",
       "      <td>234</td>\n",
       "      <td>170</td>\n",
       "      <td>325</td>\n",
       "      <td>457</td>\n",
       "      <td>456</td>\n",
       "    </tr>\n",
       "    <tr>\n",
       "      <th>Rounds</th>\n",
       "      <td>79.5</td>\n",
       "      <td>83</td>\n",
       "      <td>60</td>\n",
       "      <td>81</td>\n",
       "      <td>67</td>\n",
       "    </tr>\n",
       "    <tr>\n",
       "      <th>Fairway Percentage</th>\n",
       "      <td>61.43</td>\n",
       "      <td>62.16</td>\n",
       "      <td>62.06</td>\n",
       "      <td>61.96</td>\n",
       "      <td>61.9</td>\n",
       "    </tr>\n",
       "    <tr>\n",
       "      <th>Year</th>\n",
       "      <td>2010</td>\n",
       "      <td>2010</td>\n",
       "      <td>2010</td>\n",
       "      <td>2010</td>\n",
       "      <td>2010</td>\n",
       "    </tr>\n",
       "    <tr>\n",
       "      <th>Avg Distance</th>\n",
       "      <td>290.55</td>\n",
       "      <td>283.1</td>\n",
       "      <td>290.9</td>\n",
       "      <td>290.6</td>\n",
       "      <td>286.2</td>\n",
       "    </tr>\n",
       "    <tr>\n",
       "      <th>gir</th>\n",
       "      <td>65.79</td>\n",
       "      <td>67.8</td>\n",
       "      <td>64.75</td>\n",
       "      <td>67.49</td>\n",
       "      <td>65.52</td>\n",
       "    </tr>\n",
       "    <tr>\n",
       "      <th>Average Putts</th>\n",
       "      <td>29.14</td>\n",
       "      <td>28.93</td>\n",
       "      <td>28.93</td>\n",
       "      <td>29.53</td>\n",
       "      <td>30.03</td>\n",
       "    </tr>\n",
       "    <tr>\n",
       "      <th>Average Scrambling</th>\n",
       "      <td>58.275</td>\n",
       "      <td>63.2</td>\n",
       "      <td>57.61</td>\n",
       "      <td>56.33</td>\n",
       "      <td>50.38</td>\n",
       "    </tr>\n",
       "    <tr>\n",
       "      <th>Average Score</th>\n",
       "      <td>70.902</td>\n",
       "      <td>70.367</td>\n",
       "      <td>70.986</td>\n",
       "      <td>70.875</td>\n",
       "      <td>72.202</td>\n",
       "    </tr>\n",
       "    <tr>\n",
       "      <th>Points</th>\n",
       "      <td>0</td>\n",
       "      <td>929</td>\n",
       "      <td>461</td>\n",
       "      <td>768</td>\n",
       "      <td>798</td>\n",
       "    </tr>\n",
       "    <tr>\n",
       "      <th>Wins</th>\n",
       "      <td>1</td>\n",
       "      <td>1</td>\n",
       "      <td>1</td>\n",
       "      <td>1</td>\n",
       "      <td>1</td>\n",
       "    </tr>\n",
       "    <tr>\n",
       "      <th>Top_10</th>\n",
       "      <td>2</td>\n",
       "      <td>3</td>\n",
       "      <td>1</td>\n",
       "      <td>2</td>\n",
       "      <td>2</td>\n",
       "    </tr>\n",
       "    <tr>\n",
       "      <th>Average SG Putts</th>\n",
       "      <td>0.04</td>\n",
       "      <td>0.241</td>\n",
       "      <td>0.24</td>\n",
       "      <td>0.261</td>\n",
       "      <td>-0.386</td>\n",
       "    </tr>\n",
       "    <tr>\n",
       "      <th>Average SG Total</th>\n",
       "      <td>0.147</td>\n",
       "      <td>0.722</td>\n",
       "      <td>-0.073</td>\n",
       "      <td>0.567</td>\n",
       "      <td>-1.177</td>\n",
       "    </tr>\n",
       "    <tr>\n",
       "      <th>SG:OTT</th>\n",
       "      <td>0.056</td>\n",
       "      <td>-0.064</td>\n",
       "      <td>0.166</td>\n",
       "      <td>0.27</td>\n",
       "      <td>0.122</td>\n",
       "    </tr>\n",
       "    <tr>\n",
       "      <th>SG:APR</th>\n",
       "      <td>0.081</td>\n",
       "      <td>0.302</td>\n",
       "      <td>-0.292</td>\n",
       "      <td>-0.016</td>\n",
       "      <td>-0.31</td>\n",
       "    </tr>\n",
       "    <tr>\n",
       "      <th>SG:ARG</th>\n",
       "      <td>0.022</td>\n",
       "      <td>0.241</td>\n",
       "      <td>-0.185</td>\n",
       "      <td>0.053</td>\n",
       "      <td>-0.607</td>\n",
       "    </tr>\n",
       "    <tr>\n",
       "      <th>Money</th>\n",
       "      <td>2213</td>\n",
       "      <td>2083</td>\n",
       "      <td>2192</td>\n",
       "      <td>2066</td>\n",
       "      <td>2096</td>\n",
       "    </tr>\n",
       "    <tr>\n",
       "      <th>Rounds_is_missing</th>\n",
       "      <td>True</td>\n",
       "      <td>False</td>\n",
       "      <td>False</td>\n",
       "      <td>False</td>\n",
       "      <td>False</td>\n",
       "    </tr>\n",
       "    <tr>\n",
       "      <th>Fairway Percentage_is_missing</th>\n",
       "      <td>True</td>\n",
       "      <td>False</td>\n",
       "      <td>False</td>\n",
       "      <td>False</td>\n",
       "      <td>False</td>\n",
       "    </tr>\n",
       "    <tr>\n",
       "      <th>Avg Distance_is_missing</th>\n",
       "      <td>True</td>\n",
       "      <td>False</td>\n",
       "      <td>False</td>\n",
       "      <td>False</td>\n",
       "      <td>False</td>\n",
       "    </tr>\n",
       "    <tr>\n",
       "      <th>gir_is_missing</th>\n",
       "      <td>True</td>\n",
       "      <td>False</td>\n",
       "      <td>False</td>\n",
       "      <td>False</td>\n",
       "      <td>False</td>\n",
       "    </tr>\n",
       "    <tr>\n",
       "      <th>Average Putts_is_missing</th>\n",
       "      <td>True</td>\n",
       "      <td>False</td>\n",
       "      <td>False</td>\n",
       "      <td>False</td>\n",
       "      <td>False</td>\n",
       "    </tr>\n",
       "    <tr>\n",
       "      <th>Average Scrambling_is_missing</th>\n",
       "      <td>True</td>\n",
       "      <td>False</td>\n",
       "      <td>False</td>\n",
       "      <td>False</td>\n",
       "      <td>False</td>\n",
       "    </tr>\n",
       "    <tr>\n",
       "      <th>Average Score_is_missing</th>\n",
       "      <td>True</td>\n",
       "      <td>False</td>\n",
       "      <td>False</td>\n",
       "      <td>False</td>\n",
       "      <td>False</td>\n",
       "    </tr>\n",
       "    <tr>\n",
       "      <th>Wins_is_missing</th>\n",
       "      <td>True</td>\n",
       "      <td>True</td>\n",
       "      <td>True</td>\n",
       "      <td>True</td>\n",
       "      <td>True</td>\n",
       "    </tr>\n",
       "    <tr>\n",
       "      <th>Top_10_is_missing</th>\n",
       "      <td>True</td>\n",
       "      <td>False</td>\n",
       "      <td>False</td>\n",
       "      <td>False</td>\n",
       "      <td>True</td>\n",
       "    </tr>\n",
       "    <tr>\n",
       "      <th>Average SG Putts_is_missing</th>\n",
       "      <td>True</td>\n",
       "      <td>False</td>\n",
       "      <td>False</td>\n",
       "      <td>False</td>\n",
       "      <td>False</td>\n",
       "    </tr>\n",
       "    <tr>\n",
       "      <th>Average SG Total_is_missing</th>\n",
       "      <td>True</td>\n",
       "      <td>False</td>\n",
       "      <td>False</td>\n",
       "      <td>False</td>\n",
       "      <td>False</td>\n",
       "    </tr>\n",
       "    <tr>\n",
       "      <th>SG:OTT_is_missing</th>\n",
       "      <td>True</td>\n",
       "      <td>False</td>\n",
       "      <td>False</td>\n",
       "      <td>False</td>\n",
       "      <td>False</td>\n",
       "    </tr>\n",
       "    <tr>\n",
       "      <th>SG:APR_is_missing</th>\n",
       "      <td>True</td>\n",
       "      <td>False</td>\n",
       "      <td>False</td>\n",
       "      <td>False</td>\n",
       "      <td>False</td>\n",
       "    </tr>\n",
       "    <tr>\n",
       "      <th>SG:ARG_is_missing</th>\n",
       "      <td>True</td>\n",
       "      <td>False</td>\n",
       "      <td>False</td>\n",
       "      <td>False</td>\n",
       "      <td>False</td>\n",
       "    </tr>\n",
       "    <tr>\n",
       "      <th>Player_is_missing</th>\n",
       "      <td>False</td>\n",
       "      <td>False</td>\n",
       "      <td>False</td>\n",
       "      <td>False</td>\n",
       "      <td>False</td>\n",
       "    </tr>\n",
       "    <tr>\n",
       "      <th>Points_is_missing</th>\n",
       "      <td>True</td>\n",
       "      <td>False</td>\n",
       "      <td>False</td>\n",
       "      <td>False</td>\n",
       "      <td>False</td>\n",
       "    </tr>\n",
       "    <tr>\n",
       "      <th>Money_is_missing</th>\n",
       "      <td>False</td>\n",
       "      <td>False</td>\n",
       "      <td>False</td>\n",
       "      <td>False</td>\n",
       "      <td>False</td>\n",
       "    </tr>\n",
       "  </tbody>\n",
       "</table>\n",
       "</div>"
      ],
      "text/plain": [
       "                                 2311    1607    1608    1609    1610\n",
       "Player                            234     170     325     457     456\n",
       "Rounds                           79.5      83      60      81      67\n",
       "Fairway Percentage              61.43   62.16   62.06   61.96    61.9\n",
       "Year                             2010    2010    2010    2010    2010\n",
       "Avg Distance                   290.55   283.1   290.9   290.6   286.2\n",
       "gir                             65.79    67.8   64.75   67.49   65.52\n",
       "Average Putts                   29.14   28.93   28.93   29.53   30.03\n",
       "Average Scrambling             58.275    63.2   57.61   56.33   50.38\n",
       "Average Score                  70.902  70.367  70.986  70.875  72.202\n",
       "Points                              0     929     461     768     798\n",
       "Wins                                1       1       1       1       1\n",
       "Top_10                              2       3       1       2       2\n",
       "Average SG Putts                 0.04   0.241    0.24   0.261  -0.386\n",
       "Average SG Total                0.147   0.722  -0.073   0.567  -1.177\n",
       "SG:OTT                          0.056  -0.064   0.166    0.27   0.122\n",
       "SG:APR                          0.081   0.302  -0.292  -0.016   -0.31\n",
       "SG:ARG                          0.022   0.241  -0.185   0.053  -0.607\n",
       "Money                            2213    2083    2192    2066    2096\n",
       "Rounds_is_missing                True   False   False   False   False\n",
       "Fairway Percentage_is_missing    True   False   False   False   False\n",
       "Avg Distance_is_missing          True   False   False   False   False\n",
       "gir_is_missing                   True   False   False   False   False\n",
       "Average Putts_is_missing         True   False   False   False   False\n",
       "Average Scrambling_is_missing    True   False   False   False   False\n",
       "Average Score_is_missing         True   False   False   False   False\n",
       "Wins_is_missing                  True    True    True    True    True\n",
       "Top_10_is_missing                True   False   False   False    True\n",
       "Average SG Putts_is_missing      True   False   False   False   False\n",
       "Average SG Total_is_missing      True   False   False   False   False\n",
       "SG:OTT_is_missing                True   False   False   False   False\n",
       "SG:APR_is_missing                True   False   False   False   False\n",
       "SG:ARG_is_missing                True   False   False   False   False\n",
       "Player_is_missing               False   False   False   False   False\n",
       "Points_is_missing                True   False   False   False   False\n",
       "Money_is_missing                False   False   False   False   False"
      ]
     },
     "execution_count": 313,
     "metadata": {},
     "output_type": "execute_result"
    }
   ],
   "source": [
    "X.head().T"
   ]
  },
  {
   "cell_type": "markdown",
   "metadata": {},
   "source": [
    "## Modelling"
   ]
  },
  {
   "cell_type": "code",
   "execution_count": 314,
   "metadata": {},
   "outputs": [],
   "source": [
    "# Let's build a learning machine model\n",
    "from sklearn.model_selection import train_test_split, cross_val_score\n",
    "from sklearn.model_selection import RandomizedSearchCV, GridSearchCV\n",
    "from sklearn.metrics import confusion_matrix, classification_report\n",
    "from sklearn.metrics import precision_score, recall_score, f1_score\n",
    "from sklearn.metrics import plot_roc_curve\n",
    "from sklearn.ensemble import RandomForestRegressor"
   ]
  },
  {
   "cell_type": "code",
   "execution_count": 315,
   "metadata": {},
   "outputs": [],
   "source": [
    "# Fitting the model to the training data\n",
    "from sklearn.model_selection import train_test_split\n",
    "\n",
    "X_train, X_test, y_train, y_test = train_test_split(X, y, test_size=0.2)"
   ]
  },
  {
   "cell_type": "code",
   "execution_count": 316,
   "metadata": {},
   "outputs": [
    {
     "name": "stdout",
     "output_type": "stream",
     "text": [
      "Wall time: 537 ms\n"
     ]
    },
    {
     "data": {
      "text/plain": [
       "RandomForestRegressor(n_jobs=-1, random_state=42)"
      ]
     },
     "execution_count": 316,
     "metadata": {},
     "output_type": "execute_result"
    }
   ],
   "source": [
    "%%time\n",
    "# Instantiate model\n",
    "model = RandomForestRegressor(n_jobs=-1,\n",
    "                              random_state=42)\n",
    "\n",
    "# Fit the model\n",
    "model.fit(X_train, y_train)"
   ]
  },
  {
   "cell_type": "code",
   "execution_count": 317,
   "metadata": {},
   "outputs": [
    {
     "data": {
      "text/plain": [
       "0.9989901879710511"
      ]
     },
     "execution_count": 317,
     "metadata": {},
     "output_type": "execute_result"
    }
   ],
   "source": [
    "# Score the model\n",
    "model.score(X_train, y_train)"
   ]
  },
  {
   "cell_type": "markdown",
   "metadata": {},
   "source": [
    "## Check the test set"
   ]
  },
  {
   "cell_type": "code",
   "execution_count": 318,
   "metadata": {},
   "outputs": [
    {
     "data": {
      "text/plain": [
       "RandomForestRegressor(n_jobs=-1, random_state=42)"
      ]
     },
     "execution_count": 318,
     "metadata": {},
     "output_type": "execute_result"
    }
   ],
   "source": [
    "model.fit(X_test, y_test)"
   ]
  },
  {
   "cell_type": "code",
   "execution_count": 319,
   "metadata": {},
   "outputs": [
    {
     "data": {
      "text/plain": [
       "0.9958422906699723"
      ]
     },
     "execution_count": 319,
     "metadata": {},
     "output_type": "execute_result"
    }
   ],
   "source": [
    "model.score(X_test, y_test)"
   ]
  },
  {
   "cell_type": "code",
   "execution_count": 320,
   "metadata": {},
   "outputs": [
    {
     "data": {
      "text/plain": [
       "2311    3.0\n",
       "1607    4.0\n",
       "1608    2.0\n",
       "1609    3.0\n",
       "1610    3.0\n",
       "1611    3.0\n",
       "1612    7.0\n",
       "1613    4.0\n",
       "1614    3.0\n",
       "1615    3.0\n",
       "1606    3.0\n",
       "1616    3.0\n",
       "1618    6.0\n",
       "1619    6.0\n",
       "1620    2.0\n",
       "1621    2.0\n",
       "1622    4.0\n",
       "1623    2.0\n",
       "1624    3.0\n",
       "1625    2.0\n",
       "1626    3.0\n",
       "1617    3.0\n",
       "1627    3.0\n",
       "1605    6.0\n",
       "1603    2.0\n",
       "1583    2.0\n",
       "1584    2.0\n",
       "1585    3.0\n",
       "1586    4.0\n",
       "1587    3.0\n",
       "Name: Best, dtype: float64"
      ]
     },
     "execution_count": 320,
     "metadata": {},
     "output_type": "execute_result"
    }
   ],
   "source": [
    "df_tmp[\"Best\"].head(30)"
   ]
  },
  {
   "cell_type": "code",
   "execution_count": 321,
   "metadata": {},
   "outputs": [
    {
     "data": {
      "text/plain": [
       "2311    234\n",
       "1607    170\n",
       "1608    325\n",
       "1609    457\n",
       "1610    456\n",
       "1611    228\n",
       "1612     91\n",
       "1613    103\n",
       "1614    258\n",
       "1615    186\n",
       "1606    312\n",
       "1616     20\n",
       "1618    128\n",
       "1619    368\n",
       "1620    345\n",
       "1621    222\n",
       "1622     39\n",
       "1623    172\n",
       "1624    471\n",
       "1625    506\n",
       "1626    332\n",
       "1617     48\n",
       "1627    496\n",
       "1605    303\n",
       "1603    404\n",
       "1583    336\n",
       "1584    334\n",
       "1585    214\n",
       "1586    338\n",
       "1587    505\n",
       "Name: Player, dtype: int16"
      ]
     },
     "execution_count": 321,
     "metadata": {},
     "output_type": "execute_result"
    }
   ],
   "source": [
    "df_tmp[\"Player\"].head(30)"
   ]
  },
  {
   "cell_type": "code",
   "execution_count": 322,
   "metadata": {},
   "outputs": [
    {
     "name": "stdout",
     "output_type": "stream",
     "text": [
      "<class 'pandas.core.frame.DataFrame'>\n",
      "Int64Index: 2312 entries, 2311 to 0\n",
      "Data columns (total 36 columns):\n",
      " #   Column                         Non-Null Count  Dtype  \n",
      "---  ------                         --------------  -----  \n",
      " 0   Player                         2312 non-null   int16  \n",
      " 1   Rounds                         2312 non-null   float64\n",
      " 2   Fairway Percentage             2312 non-null   float64\n",
      " 3   Year                           2312 non-null   int64  \n",
      " 4   Avg Distance                   2312 non-null   float64\n",
      " 5   gir                            2312 non-null   float64\n",
      " 6   Average Putts                  2312 non-null   float64\n",
      " 7   Average Scrambling             2312 non-null   float64\n",
      " 8   Average Score                  2312 non-null   float64\n",
      " 9   Points                         2312 non-null   int16  \n",
      " 10  Wins                           2312 non-null   float64\n",
      " 11  Top_10                         2312 non-null   float64\n",
      " 12  Average SG Putts               2312 non-null   float64\n",
      " 13  Average SG Total               2312 non-null   float64\n",
      " 14  SG:OTT                         2312 non-null   float64\n",
      " 15  SG:APR                         2312 non-null   float64\n",
      " 16  SG:ARG                         2312 non-null   float64\n",
      " 17  Money                          2312 non-null   int16  \n",
      " 18  Rounds_is_missing              2312 non-null   bool   \n",
      " 19  Fairway Percentage_is_missing  2312 non-null   bool   \n",
      " 20  Avg Distance_is_missing        2312 non-null   bool   \n",
      " 21  gir_is_missing                 2312 non-null   bool   \n",
      " 22  Average Putts_is_missing       2312 non-null   bool   \n",
      " 23  Average Scrambling_is_missing  2312 non-null   bool   \n",
      " 24  Average Score_is_missing       2312 non-null   bool   \n",
      " 25  Wins_is_missing                2312 non-null   bool   \n",
      " 26  Top_10_is_missing              2312 non-null   bool   \n",
      " 27  Average SG Putts_is_missing    2312 non-null   bool   \n",
      " 28  Average SG Total_is_missing    2312 non-null   bool   \n",
      " 29  SG:OTT_is_missing              2312 non-null   bool   \n",
      " 30  SG:APR_is_missing              2312 non-null   bool   \n",
      " 31  SG:ARG_is_missing              2312 non-null   bool   \n",
      " 32  Player_is_missing              2312 non-null   bool   \n",
      " 33  Points_is_missing              2312 non-null   bool   \n",
      " 34  Money_is_missing               2312 non-null   bool   \n",
      " 35  Best                           2312 non-null   float64\n",
      "dtypes: bool(17), float64(15), int16(3), int64(1)\n",
      "memory usage: 359.0 KB\n"
     ]
    }
   ],
   "source": [
    "df_tmp.info()"
   ]
  },
  {
   "cell_type": "markdown",
   "metadata": {},
   "source": [
    "## Split data into train/validation sets"
   ]
  },
  {
   "cell_type": "code",
   "execution_count": 323,
   "metadata": {},
   "outputs": [
    {
     "data": {
      "text/plain": [
       "2311    2010\n",
       "1607    2010\n",
       "1608    2010\n",
       "1609    2010\n",
       "1610    2010\n",
       "        ... \n",
       "166     2018\n",
       "165     2018\n",
       "164     2018\n",
       "179     2018\n",
       "0       2018\n",
       "Name: Year, Length: 2312, dtype: int64"
      ]
     },
     "execution_count": 323,
     "metadata": {},
     "output_type": "execute_result"
    }
   ],
   "source": [
    "df_tmp.Year"
   ]
  },
  {
   "cell_type": "code",
   "execution_count": 324,
   "metadata": {},
   "outputs": [
    {
     "data": {
      "text/plain": [
       "2011    264\n",
       "2018    261\n",
       "2012    261\n",
       "2015    260\n",
       "2014    259\n",
       "2013    253\n",
       "2017    252\n",
       "2016    251\n",
       "2010    251\n",
       "Name: Year, dtype: int64"
      ]
     },
     "execution_count": 324,
     "metadata": {},
     "output_type": "execute_result"
    }
   ],
   "source": [
    "df_tmp.Year.value_counts()"
   ]
  },
  {
   "cell_type": "code",
   "execution_count": 325,
   "metadata": {},
   "outputs": [
    {
     "data": {
      "text/plain": [
       "(261, 2051)"
      ]
     },
     "execution_count": 325,
     "metadata": {},
     "output_type": "execute_result"
    }
   ],
   "source": [
    "# Split data into training and validation\n",
    "df_val = df_tmp[df_tmp.Year == 2018]\n",
    "df_train = df_tmp[df_tmp.Year != 2018]\n",
    "\n",
    "len(df_val), len(df_train)"
   ]
  },
  {
   "cell_type": "code",
   "execution_count": 326,
   "metadata": {},
   "outputs": [
    {
     "data": {
      "text/plain": [
       "((2051, 35), (2051,), (261, 35), (261,))"
      ]
     },
     "execution_count": 326,
     "metadata": {},
     "output_type": "execute_result"
    }
   ],
   "source": [
    "# Split data into X & y\n",
    "X_train, y_train = df_train.drop(\"Best\", axis=1), df_train.Best\n",
    "X_valid, y_valid = df_val.drop(\"Best\", axis=1), df_val.Best\n",
    "\n",
    "X_train.shape, y_train.shape, X_valid.shape, y_valid.shape"
   ]
  },
  {
   "cell_type": "code",
   "execution_count": 327,
   "metadata": {},
   "outputs": [
    {
     "data": {
      "text/plain": [
       "2311    3.0\n",
       "1607    4.0\n",
       "1608    2.0\n",
       "1609    3.0\n",
       "1610    3.0\n",
       "       ... \n",
       "218     6.0\n",
       "219     3.0\n",
       "210     2.0\n",
       "227     4.0\n",
       "221     3.0\n",
       "Name: Best, Length: 2051, dtype: float64"
      ]
     },
     "execution_count": 327,
     "metadata": {},
     "output_type": "execute_result"
    }
   ],
   "source": [
    "y_train"
   ]
  },
  {
   "cell_type": "markdown",
   "metadata": {},
   "source": [
    "## Building an evaluation function"
   ]
  },
  {
   "cell_type": "code",
   "execution_count": 328,
   "metadata": {},
   "outputs": [],
   "source": [
    "# Create an evaluation function\n",
    "from sklearn.metrics import mean_squared_log_error, mean_absolute_error, r2_score\n",
    "\n",
    "def rmsle(y_test, y_preds):\n",
    "    \"\"\"\n",
    "    Calculates root mean squared log error between predictions and True labels.\n",
    "    \"\"\"\n",
    "    return np.sqrt(mean_squared_log_error(y_test, y_preds))\n",
    "\n",
    "# Create function to evaluate model on a few different levels\n",
    "def show_scores(model):\n",
    "    train_preds = model.predict(X_train)\n",
    "    val_preds = model.predict(X_valid)\n",
    "    scores = {\"Training MAE\": mean_absolute_error(y_train, train_preds),\n",
    "              \"Valid MAE\": mean_absolute_error(y_valid, val_preds),\n",
    "             \"Training RMSLE\": rmsle(y_train, train_preds),\n",
    "              \"Valid RMSLE\": rmsle(y_valid, val_preds),\n",
    "             \"Training R^2\": r2_score(y_train, train_preds),\n",
    "             \"Valid R^2\": r2_score(y_valid, val_preds)}\n",
    "    return scores"
   ]
  },
  {
   "cell_type": "markdown",
   "metadata": {},
   "source": [
    "## Testing our model on a subset (to tune the hyperparameters)"
   ]
  },
  {
   "cell_type": "code",
   "execution_count": 329,
   "metadata": {},
   "outputs": [
    {
     "data": {
      "text/plain": [
       "{'Training MAE': 0.029288152120916622,\n",
       " 'Valid MAE': 0.03846743295019157,\n",
       " 'Training RMSLE': 0.018239984943249243,\n",
       " 'Valid RMSLE': 0.022968283838632215,\n",
       " 'Training R^2': 0.9861102421095832,\n",
       " 'Valid R^2': 0.988045965672036}"
      ]
     },
     "execution_count": 329,
     "metadata": {},
     "output_type": "execute_result"
    }
   ],
   "source": [
    "show_scores(model)"
   ]
  },
  {
   "cell_type": "markdown",
   "metadata": {},
   "source": [
    "## Hyperparameter tuning with RandomizedSearchCV"
   ]
  },
  {
   "cell_type": "code",
   "execution_count": 330,
   "metadata": {},
   "outputs": [
    {
     "name": "stdout",
     "output_type": "stream",
     "text": [
      "Fitting 5 folds for each of 20 candidates, totalling 100 fits\n"
     ]
    },
    {
     "name": "stderr",
     "output_type": "stream",
     "text": [
      "[Parallel(n_jobs=1)]: Using backend SequentialBackend with 1 concurrent workers.\n"
     ]
    },
    {
     "name": "stdout",
     "output_type": "stream",
     "text": [
      "Wall time: 11.5 s\n"
     ]
    },
    {
     "name": "stderr",
     "output_type": "stream",
     "text": [
      "[Parallel(n_jobs=1)]: Done 100 out of 100 | elapsed:   11.3s finished\n"
     ]
    },
    {
     "data": {
      "text/plain": [
       "RandomizedSearchCV(cv=5,\n",
       "                   estimator=RandomForestRegressor(n_jobs=1, random_state=42),\n",
       "                   n_iter=20,\n",
       "                   param_distributions={'max_depth': [None, 3, 5, 10],\n",
       "                                        'max_features': [0.5, 1, 'sqrt',\n",
       "                                                         'auto'],\n",
       "                                        'max_samples': [1000],\n",
       "                                        'min_samples_leaf': array([ 1,  3,  5,  7,  9, 11, 13, 15, 17, 19]),\n",
       "                                        'min_samples_split': array([ 2,  4,  6,  8, 10, 12, 14, 16, 18]),\n",
       "                                        'n_estimators': array([ 5, 15, 25, 35, 45])},\n",
       "                   verbose=True)"
      ]
     },
     "execution_count": 330,
     "metadata": {},
     "output_type": "execute_result"
    }
   ],
   "source": [
    "%%time\n",
    "from sklearn.model_selection import RandomizedSearchCV\n",
    "\n",
    "# Different RandomizedForestRegressor hyperparameters\n",
    "rf_grid = {\"n_estimators\": np.arange(5,50,10),\n",
    "          \"max_depth\": [None, 3,5,10],\n",
    "          \"min_samples_split\": np.arange(2,20,2),\n",
    "          \"min_samples_leaf\": np.arange(1,20,2),\n",
    "          \"max_features\": [0.5,1, \"sqrt\", \"auto\"],\n",
    "          \"max_samples\": [1000]}\n",
    "\n",
    "# Instantiate RandomizedSearchCV model\n",
    "rs_model = RandomizedSearchCV(RandomForestRegressor(n_jobs=1,\n",
    "                                                   random_state=42),\n",
    "                              param_distributions=rf_grid,\n",
    "                              n_iter=20,\n",
    "                              cv=5,\n",
    "                              verbose=True)\n",
    "\n",
    "# Fit the RandomizedSearchCV model\n",
    "rs_model.fit(X_train, y_train)"
   ]
  },
  {
   "cell_type": "code",
   "execution_count": 331,
   "metadata": {},
   "outputs": [
    {
     "data": {
      "text/plain": [
       "{'n_estimators': 15,\n",
       " 'min_samples_split': 2,\n",
       " 'min_samples_leaf': 1,\n",
       " 'max_samples': 1000,\n",
       " 'max_features': 0.5,\n",
       " 'max_depth': 10}"
      ]
     },
     "execution_count": 331,
     "metadata": {},
     "output_type": "execute_result"
    }
   ],
   "source": [
    "# Find the best model hyperparameters\n",
    "rs_model.best_params_"
   ]
  },
  {
   "cell_type": "code",
   "execution_count": 332,
   "metadata": {},
   "outputs": [
    {
     "data": {
      "text/plain": [
       "{'Training MAE': 0.049736920076651654,\n",
       " 'Valid MAE': 0.07462847498782167,\n",
       " 'Training RMSLE': 0.020374553145344674,\n",
       " 'Valid RMSLE': 0.02560194192745457,\n",
       " 'Training R^2': 0.9886306429662428,\n",
       " 'Valid R^2': 0.9881640027855662}"
      ]
     },
     "execution_count": 332,
     "metadata": {},
     "output_type": "execute_result"
    }
   ],
   "source": [
    "# Evaluate the RandomizedSearch model\n",
    "show_scores(rs_model)"
   ]
  },
  {
   "cell_type": "markdown",
   "metadata": {},
   "source": [
    "## Train a model with the best hyperparameters\n",
    "**Note:** These were found after 20 iterations of RandomizedSearchCV"
   ]
  },
  {
   "cell_type": "code",
   "execution_count": 333,
   "metadata": {},
   "outputs": [
    {
     "name": "stdout",
     "output_type": "stream",
     "text": [
      "Wall time: 145 ms\n"
     ]
    },
    {
     "data": {
      "text/plain": [
       "RandomForestRegressor(max_features=0.5, min_samples_split=8, n_estimators=15,\n",
       "                      n_jobs=1, random_state=42)"
      ]
     },
     "execution_count": 333,
     "metadata": {},
     "output_type": "execute_result"
    }
   ],
   "source": [
    "%%time\n",
    "\n",
    "# Most ideal hyperparamters\n",
    "ideal_model = RandomForestRegressor(n_estimators=15,\n",
    "                                       min_samples_leaf=1,\n",
    "                                       min_samples_split=8,\n",
    "                                       max_features=0.5,\n",
    "                                       n_jobs=1,\n",
    "                                       max_samples=None,\n",
    "                                       random_state=42)\n",
    "\n",
    "# Fit the ideal model\n",
    "ideal_model.fit(X_train, y_train)"
   ]
  },
  {
   "cell_type": "code",
   "execution_count": 334,
   "metadata": {},
   "outputs": [
    {
     "data": {
      "text/plain": [
       "{'Training MAE': 0.024268108419741773,\n",
       " 'Valid MAE': 0.0503611912424173,\n",
       " 'Training RMSLE': 0.012661475593148118,\n",
       " 'Valid RMSLE': 0.0187542136112419,\n",
       " 'Training R^2': 0.9923858574772186,\n",
       " 'Valid R^2': 0.9926371187078407}"
      ]
     },
     "execution_count": 334,
     "metadata": {},
     "output_type": "execute_result"
    }
   ],
   "source": [
    "# Scores for ideal_model (trained on all the data)\n",
    "show_scores(ideal_model)"
   ]
  },
  {
   "cell_type": "code",
   "execution_count": 335,
   "metadata": {},
   "outputs": [
    {
     "data": {
      "text/plain": [
       "{'Training MAE': 0.049736920076651654,\n",
       " 'Valid MAE': 0.07462847498782167,\n",
       " 'Training RMSLE': 0.020374553145344674,\n",
       " 'Valid RMSLE': 0.02560194192745457,\n",
       " 'Training R^2': 0.9886306429662428,\n",
       " 'Valid R^2': 0.9881640027855662}"
      ]
     },
     "execution_count": 335,
     "metadata": {},
     "output_type": "execute_result"
    }
   ],
   "source": [
    "# Scores on rs_model\n",
    "show_scores(rs_model)"
   ]
  },
  {
   "cell_type": "code",
   "execution_count": 336,
   "metadata": {},
   "outputs": [
    {
     "data": {
      "text/plain": [
       "array([3.        , 3.9       , 2.        , ..., 5.72694805, 3.        ,\n",
       "       6.04      ])"
      ]
     },
     "execution_count": 336,
     "metadata": {},
     "output_type": "execute_result"
    }
   ],
   "source": [
    "# Make predictions on the test data\n",
    "test_preds_X = ideal_model.predict(X)\n",
    "test_preds_X"
   ]
  },
  {
   "cell_type": "code",
   "execution_count": 337,
   "metadata": {},
   "outputs": [
    {
     "data": {
      "text/plain": [
       "(2312, 35)"
      ]
     },
     "execution_count": 337,
     "metadata": {},
     "output_type": "execute_result"
    }
   ],
   "source": [
    "X.shape"
   ]
  },
  {
   "cell_type": "code",
   "execution_count": 338,
   "metadata": {},
   "outputs": [
    {
     "data": {
      "text/plain": [
       "(2312,)"
      ]
     },
     "execution_count": 338,
     "metadata": {},
     "output_type": "execute_result"
    }
   ],
   "source": [
    "y.shape"
   ]
  },
  {
   "cell_type": "code",
   "execution_count": 339,
   "metadata": {},
   "outputs": [
    {
     "data": {
      "text/html": [
       "<div>\n",
       "<style scoped>\n",
       "    .dataframe tbody tr th:only-of-type {\n",
       "        vertical-align: middle;\n",
       "    }\n",
       "\n",
       "    .dataframe tbody tr th {\n",
       "        vertical-align: top;\n",
       "    }\n",
       "\n",
       "    .dataframe thead th {\n",
       "        text-align: right;\n",
       "    }\n",
       "</style>\n",
       "<table border=\"1\" class=\"dataframe\">\n",
       "  <thead>\n",
       "    <tr style=\"text-align: right;\">\n",
       "      <th></th>\n",
       "      <th>Player</th>\n",
       "      <th>Best</th>\n",
       "    </tr>\n",
       "  </thead>\n",
       "  <tbody>\n",
       "    <tr>\n",
       "      <th>2311</th>\n",
       "      <td>234</td>\n",
       "      <td>3.0</td>\n",
       "    </tr>\n",
       "    <tr>\n",
       "      <th>1607</th>\n",
       "      <td>170</td>\n",
       "      <td>4.0</td>\n",
       "    </tr>\n",
       "    <tr>\n",
       "      <th>1608</th>\n",
       "      <td>325</td>\n",
       "      <td>2.0</td>\n",
       "    </tr>\n",
       "    <tr>\n",
       "      <th>1609</th>\n",
       "      <td>457</td>\n",
       "      <td>3.0</td>\n",
       "    </tr>\n",
       "    <tr>\n",
       "      <th>1610</th>\n",
       "      <td>456</td>\n",
       "      <td>3.0</td>\n",
       "    </tr>\n",
       "    <tr>\n",
       "      <th>...</th>\n",
       "      <td>...</td>\n",
       "      <td>...</td>\n",
       "    </tr>\n",
       "    <tr>\n",
       "      <th>166</th>\n",
       "      <td>118</td>\n",
       "      <td>3.0</td>\n",
       "    </tr>\n",
       "    <tr>\n",
       "      <th>165</th>\n",
       "      <td>325</td>\n",
       "      <td>2.0</td>\n",
       "    </tr>\n",
       "    <tr>\n",
       "      <th>164</th>\n",
       "      <td>366</td>\n",
       "      <td>6.0</td>\n",
       "    </tr>\n",
       "    <tr>\n",
       "      <th>179</th>\n",
       "      <td>485</td>\n",
       "      <td>3.0</td>\n",
       "    </tr>\n",
       "    <tr>\n",
       "      <th>0</th>\n",
       "      <td>195</td>\n",
       "      <td>6.0</td>\n",
       "    </tr>\n",
       "  </tbody>\n",
       "</table>\n",
       "<p>2312 rows × 2 columns</p>\n",
       "</div>"
      ],
      "text/plain": [
       "      Player  Best\n",
       "2311     234   3.0\n",
       "1607     170   4.0\n",
       "1608     325   2.0\n",
       "1609     457   3.0\n",
       "1610     456   3.0\n",
       "...      ...   ...\n",
       "166      118   3.0\n",
       "165      325   2.0\n",
       "164      366   6.0\n",
       "179      485   3.0\n",
       "0        195   6.0\n",
       "\n",
       "[2312 rows x 2 columns]"
      ]
     },
     "execution_count": 339,
     "metadata": {},
     "output_type": "execute_result"
    }
   ],
   "source": [
    "# Format predictions into readable graph\n",
    "df_preds = pd.DataFrame()\n",
    "df_preds[\"Player\"] = X[\"Player\"]\n",
    "df_preds[\"Best\"]= y\n",
    "df_preds"
   ]
  },
  {
   "cell_type": "markdown",
   "metadata": {},
   "source": [
    "## Feature Importance\n",
    "Feature importance seeks to figure out which attributes of the data were most important whne it comes to predicting the target variable(Best)."
   ]
  },
  {
   "cell_type": "code",
   "execution_count": 340,
   "metadata": {},
   "outputs": [
    {
     "data": {
      "text/plain": [
       "array([3.48682454e-04, 2.89378461e-03, 3.54486259e-04, 1.48763512e-04,\n",
       "       6.55137836e-04, 3.08619740e-04, 1.59991904e-03, 5.87540679e-04,\n",
       "       1.53346350e-01, 3.52096747e-02, 3.87996779e-02, 7.30130468e-01,\n",
       "       1.29765649e-03, 2.22440098e-02, 1.37551228e-03, 1.23785806e-03,\n",
       "       1.61513802e-03, 4.13644713e-03, 0.00000000e+00, 0.00000000e+00,\n",
       "       1.34071465e-04, 0.00000000e+00, 0.00000000e+00, 5.90278439e-05,\n",
       "       8.22556218e-05, 4.25463826e-04, 2.98736270e-03, 0.00000000e+00,\n",
       "       1.00821260e-05, 0.00000000e+00, 0.00000000e+00, 1.20103016e-05,\n",
       "       0.00000000e+00, 0.00000000e+00, 0.00000000e+00])"
      ]
     },
     "execution_count": 340,
     "metadata": {},
     "output_type": "execute_result"
    }
   ],
   "source": [
    "ideal_model.feature_importances_"
   ]
  },
  {
   "cell_type": "code",
   "execution_count": 341,
   "metadata": {},
   "outputs": [],
   "source": [
    "# Helper function for plotting feature importance\n",
    "def plot_features(columns, importances, n=20):\n",
    "    df = (pd.DataFrame({\"features\": columns,\n",
    "                       \"feature_importances\": importances})\n",
    "         .sort_values(\"feature_importances\", ascending=False)\n",
    "         .reset_index(drop=True))\n",
    "    \n",
    "    # Plot the dataframe\n",
    "    fig, ax = plt.subplots()\n",
    "    ax.barh(df[\"features\"][:n], df[\"feature_importances\"][:20])\n",
    "    ax.set_ylabel(\"Features\")\n",
    "    ax.set_xlabel(\"Feature importance\")\n",
    "    ax.invert_yaxis()"
   ]
  },
  {
   "cell_type": "code",
   "execution_count": 342,
   "metadata": {},
   "outputs": [
    {
     "data": {
      "image/png": "[encoded data removed]",
      "text/plain": [
       "<Figure size 432x288 with 1 Axes>"
      ]
     },
     "metadata": {
      "needs_background": "light"
     },
     "output_type": "display_data"
    }
   ],
   "source": [
    "plot_features(X_train.columns, ideal_model.feature_importances_)"
   ]
  },
  {
   "cell_type": "markdown",
   "metadata": {},
   "source": [
    "### Besides Wins and Top 10 finishes, the most important factors in winning are Average Score and Average SG Total\n",
    "SG Total = Strokes Gained on average strokes of competitors.\n",
    "\n",
    "Next step is to reformat the data to determine the \"Best\" from only the following categories:\n",
    "* Average Putts\n",
    "* Average Distance\n",
    "* Average Scrambling\n",
    "* gir(greens in regulation)\n",
    "* Fairway Percentage"
   ]
  },
  {
   "cell_type": "code",
   "execution_count": 343,
   "metadata": {},
   "outputs": [
    {
     "data": {
      "text/html": [
       "<div>\n",
       "<style scoped>\n",
       "    .dataframe tbody tr th:only-of-type {\n",
       "        vertical-align: middle;\n",
       "    }\n",
       "\n",
       "    .dataframe tbody tr th {\n",
       "        vertical-align: top;\n",
       "    }\n",
       "\n",
       "    .dataframe thead th {\n",
       "        text-align: right;\n",
       "    }\n",
       "</style>\n",
       "<table border=\"1\" class=\"dataframe\">\n",
       "  <thead>\n",
       "    <tr style=\"text-align: right;\">\n",
       "      <th></th>\n",
       "      <th>2311</th>\n",
       "      <th>1607</th>\n",
       "      <th>1608</th>\n",
       "      <th>1609</th>\n",
       "      <th>1610</th>\n",
       "    </tr>\n",
       "  </thead>\n",
       "  <tbody>\n",
       "    <tr>\n",
       "      <th>Player</th>\n",
       "      <td>234</td>\n",
       "      <td>170</td>\n",
       "      <td>325</td>\n",
       "      <td>457</td>\n",
       "      <td>456</td>\n",
       "    </tr>\n",
       "    <tr>\n",
       "      <th>Rounds</th>\n",
       "      <td>79.5</td>\n",
       "      <td>83</td>\n",
       "      <td>60</td>\n",
       "      <td>81</td>\n",
       "      <td>67</td>\n",
       "    </tr>\n",
       "    <tr>\n",
       "      <th>Fairway Percentage</th>\n",
       "      <td>61.43</td>\n",
       "      <td>62.16</td>\n",
       "      <td>62.06</td>\n",
       "      <td>61.96</td>\n",
       "      <td>61.9</td>\n",
       "    </tr>\n",
       "    <tr>\n",
       "      <th>Year</th>\n",
       "      <td>2010</td>\n",
       "      <td>2010</td>\n",
       "      <td>2010</td>\n",
       "      <td>2010</td>\n",
       "      <td>2010</td>\n",
       "    </tr>\n",
       "    <tr>\n",
       "      <th>Avg Distance</th>\n",
       "      <td>290.55</td>\n",
       "      <td>283.1</td>\n",
       "      <td>290.9</td>\n",
       "      <td>290.6</td>\n",
       "      <td>286.2</td>\n",
       "    </tr>\n",
       "    <tr>\n",
       "      <th>gir</th>\n",
       "      <td>65.79</td>\n",
       "      <td>67.8</td>\n",
       "      <td>64.75</td>\n",
       "      <td>67.49</td>\n",
       "      <td>65.52</td>\n",
       "    </tr>\n",
       "    <tr>\n",
       "      <th>Average Putts</th>\n",
       "      <td>29.14</td>\n",
       "      <td>28.93</td>\n",
       "      <td>28.93</td>\n",
       "      <td>29.53</td>\n",
       "      <td>30.03</td>\n",
       "    </tr>\n",
       "    <tr>\n",
       "      <th>Average Scrambling</th>\n",
       "      <td>58.275</td>\n",
       "      <td>63.2</td>\n",
       "      <td>57.61</td>\n",
       "      <td>56.33</td>\n",
       "      <td>50.38</td>\n",
       "    </tr>\n",
       "    <tr>\n",
       "      <th>Average Score</th>\n",
       "      <td>70.902</td>\n",
       "      <td>70.367</td>\n",
       "      <td>70.986</td>\n",
       "      <td>70.875</td>\n",
       "      <td>72.202</td>\n",
       "    </tr>\n",
       "    <tr>\n",
       "      <th>Points</th>\n",
       "      <td>0</td>\n",
       "      <td>929</td>\n",
       "      <td>461</td>\n",
       "      <td>768</td>\n",
       "      <td>798</td>\n",
       "    </tr>\n",
       "    <tr>\n",
       "      <th>Wins</th>\n",
       "      <td>1</td>\n",
       "      <td>1</td>\n",
       "      <td>1</td>\n",
       "      <td>1</td>\n",
       "      <td>1</td>\n",
       "    </tr>\n",
       "    <tr>\n",
       "      <th>Top_10</th>\n",
       "      <td>2</td>\n",
       "      <td>3</td>\n",
       "      <td>1</td>\n",
       "      <td>2</td>\n",
       "      <td>2</td>\n",
       "    </tr>\n",
       "    <tr>\n",
       "      <th>Average SG Putts</th>\n",
       "      <td>0.04</td>\n",
       "      <td>0.241</td>\n",
       "      <td>0.24</td>\n",
       "      <td>0.261</td>\n",
       "      <td>-0.386</td>\n",
       "    </tr>\n",
       "    <tr>\n",
       "      <th>Average SG Total</th>\n",
       "      <td>0.147</td>\n",
       "      <td>0.722</td>\n",
       "      <td>-0.073</td>\n",
       "      <td>0.567</td>\n",
       "      <td>-1.177</td>\n",
       "    </tr>\n",
       "    <tr>\n",
       "      <th>SG:OTT</th>\n",
       "      <td>0.056</td>\n",
       "      <td>-0.064</td>\n",
       "      <td>0.166</td>\n",
       "      <td>0.27</td>\n",
       "      <td>0.122</td>\n",
       "    </tr>\n",
       "    <tr>\n",
       "      <th>SG:APR</th>\n",
       "      <td>0.081</td>\n",
       "      <td>0.302</td>\n",
       "      <td>-0.292</td>\n",
       "      <td>-0.016</td>\n",
       "      <td>-0.31</td>\n",
       "    </tr>\n",
       "    <tr>\n",
       "      <th>SG:ARG</th>\n",
       "      <td>0.022</td>\n",
       "      <td>0.241</td>\n",
       "      <td>-0.185</td>\n",
       "      <td>0.053</td>\n",
       "      <td>-0.607</td>\n",
       "    </tr>\n",
       "    <tr>\n",
       "      <th>Money</th>\n",
       "      <td>2213</td>\n",
       "      <td>2083</td>\n",
       "      <td>2192</td>\n",
       "      <td>2066</td>\n",
       "      <td>2096</td>\n",
       "    </tr>\n",
       "    <tr>\n",
       "      <th>Rounds_is_missing</th>\n",
       "      <td>True</td>\n",
       "      <td>False</td>\n",
       "      <td>False</td>\n",
       "      <td>False</td>\n",
       "      <td>False</td>\n",
       "    </tr>\n",
       "    <tr>\n",
       "      <th>Fairway Percentage_is_missing</th>\n",
       "      <td>True</td>\n",
       "      <td>False</td>\n",
       "      <td>False</td>\n",
       "      <td>False</td>\n",
       "      <td>False</td>\n",
       "    </tr>\n",
       "    <tr>\n",
       "      <th>Avg Distance_is_missing</th>\n",
       "      <td>True</td>\n",
       "      <td>False</td>\n",
       "      <td>False</td>\n",
       "      <td>False</td>\n",
       "      <td>False</td>\n",
       "    </tr>\n",
       "    <tr>\n",
       "      <th>gir_is_missing</th>\n",
       "      <td>True</td>\n",
       "      <td>False</td>\n",
       "      <td>False</td>\n",
       "      <td>False</td>\n",
       "      <td>False</td>\n",
       "    </tr>\n",
       "    <tr>\n",
       "      <th>Average Putts_is_missing</th>\n",
       "      <td>True</td>\n",
       "      <td>False</td>\n",
       "      <td>False</td>\n",
       "      <td>False</td>\n",
       "      <td>False</td>\n",
       "    </tr>\n",
       "    <tr>\n",
       "      <th>Average Scrambling_is_missing</th>\n",
       "      <td>True</td>\n",
       "      <td>False</td>\n",
       "      <td>False</td>\n",
       "      <td>False</td>\n",
       "      <td>False</td>\n",
       "    </tr>\n",
       "    <tr>\n",
       "      <th>Average Score_is_missing</th>\n",
       "      <td>True</td>\n",
       "      <td>False</td>\n",
       "      <td>False</td>\n",
       "      <td>False</td>\n",
       "      <td>False</td>\n",
       "    </tr>\n",
       "    <tr>\n",
       "      <th>Wins_is_missing</th>\n",
       "      <td>True</td>\n",
       "      <td>True</td>\n",
       "      <td>True</td>\n",
       "      <td>True</td>\n",
       "      <td>True</td>\n",
       "    </tr>\n",
       "    <tr>\n",
       "      <th>Top_10_is_missing</th>\n",
       "      <td>True</td>\n",
       "      <td>False</td>\n",
       "      <td>False</td>\n",
       "      <td>False</td>\n",
       "      <td>True</td>\n",
       "    </tr>\n",
       "    <tr>\n",
       "      <th>Average SG Putts_is_missing</th>\n",
       "      <td>True</td>\n",
       "      <td>False</td>\n",
       "      <td>False</td>\n",
       "      <td>False</td>\n",
       "      <td>False</td>\n",
       "    </tr>\n",
       "    <tr>\n",
       "      <th>Average SG Total_is_missing</th>\n",
       "      <td>True</td>\n",
       "      <td>False</td>\n",
       "      <td>False</td>\n",
       "      <td>False</td>\n",
       "      <td>False</td>\n",
       "    </tr>\n",
       "    <tr>\n",
       "      <th>SG:OTT_is_missing</th>\n",
       "      <td>True</td>\n",
       "      <td>False</td>\n",
       "      <td>False</td>\n",
       "      <td>False</td>\n",
       "      <td>False</td>\n",
       "    </tr>\n",
       "    <tr>\n",
       "      <th>SG:APR_is_missing</th>\n",
       "      <td>True</td>\n",
       "      <td>False</td>\n",
       "      <td>False</td>\n",
       "      <td>False</td>\n",
       "      <td>False</td>\n",
       "    </tr>\n",
       "    <tr>\n",
       "      <th>SG:ARG_is_missing</th>\n",
       "      <td>True</td>\n",
       "      <td>False</td>\n",
       "      <td>False</td>\n",
       "      <td>False</td>\n",
       "      <td>False</td>\n",
       "    </tr>\n",
       "    <tr>\n",
       "      <th>Player_is_missing</th>\n",
       "      <td>False</td>\n",
       "      <td>False</td>\n",
       "      <td>False</td>\n",
       "      <td>False</td>\n",
       "      <td>False</td>\n",
       "    </tr>\n",
       "    <tr>\n",
       "      <th>Points_is_missing</th>\n",
       "      <td>True</td>\n",
       "      <td>False</td>\n",
       "      <td>False</td>\n",
       "      <td>False</td>\n",
       "      <td>False</td>\n",
       "    </tr>\n",
       "    <tr>\n",
       "      <th>Money_is_missing</th>\n",
       "      <td>False</td>\n",
       "      <td>False</td>\n",
       "      <td>False</td>\n",
       "      <td>False</td>\n",
       "      <td>False</td>\n",
       "    </tr>\n",
       "    <tr>\n",
       "      <th>Best</th>\n",
       "      <td>3</td>\n",
       "      <td>4</td>\n",
       "      <td>2</td>\n",
       "      <td>3</td>\n",
       "      <td>3</td>\n",
       "    </tr>\n",
       "  </tbody>\n",
       "</table>\n",
       "</div>"
      ],
      "text/plain": [
       "                                 2311    1607    1608    1609    1610\n",
       "Player                            234     170     325     457     456\n",
       "Rounds                           79.5      83      60      81      67\n",
       "Fairway Percentage              61.43   62.16   62.06   61.96    61.9\n",
       "Year                             2010    2010    2010    2010    2010\n",
       "Avg Distance                   290.55   283.1   290.9   290.6   286.2\n",
       "gir                             65.79    67.8   64.75   67.49   65.52\n",
       "Average Putts                   29.14   28.93   28.93   29.53   30.03\n",
       "Average Scrambling             58.275    63.2   57.61   56.33   50.38\n",
       "Average Score                  70.902  70.367  70.986  70.875  72.202\n",
       "Points                              0     929     461     768     798\n",
       "Wins                                1       1       1       1       1\n",
       "Top_10                              2       3       1       2       2\n",
       "Average SG Putts                 0.04   0.241    0.24   0.261  -0.386\n",
       "Average SG Total                0.147   0.722  -0.073   0.567  -1.177\n",
       "SG:OTT                          0.056  -0.064   0.166    0.27   0.122\n",
       "SG:APR                          0.081   0.302  -0.292  -0.016   -0.31\n",
       "SG:ARG                          0.022   0.241  -0.185   0.053  -0.607\n",
       "Money                            2213    2083    2192    2066    2096\n",
       "Rounds_is_missing                True   False   False   False   False\n",
       "Fairway Percentage_is_missing    True   False   False   False   False\n",
       "Avg Distance_is_missing          True   False   False   False   False\n",
       "gir_is_missing                   True   False   False   False   False\n",
       "Average Putts_is_missing         True   False   False   False   False\n",
       "Average Scrambling_is_missing    True   False   False   False   False\n",
       "Average Score_is_missing         True   False   False   False   False\n",
       "Wins_is_missing                  True    True    True    True    True\n",
       "Top_10_is_missing                True   False   False   False    True\n",
       "Average SG Putts_is_missing      True   False   False   False   False\n",
       "Average SG Total_is_missing      True   False   False   False   False\n",
       "SG:OTT_is_missing                True   False   False   False   False\n",
       "SG:APR_is_missing                True   False   False   False   False\n",
       "SG:ARG_is_missing                True   False   False   False   False\n",
       "Player_is_missing               False   False   False   False   False\n",
       "Points_is_missing                True   False   False   False   False\n",
       "Money_is_missing                False   False   False   False   False\n",
       "Best                                3       4       2       3       3"
      ]
     },
     "execution_count": 343,
     "metadata": {},
     "output_type": "execute_result"
    }
   ],
   "source": [
    "# We'll reformat the data that was converted into numerical values. Let's takke a look.\n",
    "df_tmp.head().T"
   ]
  },
  {
   "cell_type": "code",
   "execution_count": 344,
   "metadata": {},
   "outputs": [
    {
     "data": {
      "text/html": [
       "<div>\n",
       "<style scoped>\n",
       "    .dataframe tbody tr th:only-of-type {\n",
       "        vertical-align: middle;\n",
       "    }\n",
       "\n",
       "    .dataframe tbody tr th {\n",
       "        vertical-align: top;\n",
       "    }\n",
       "\n",
       "    .dataframe thead th {\n",
       "        text-align: right;\n",
       "    }\n",
       "</style>\n",
       "<table border=\"1\" class=\"dataframe\">\n",
       "  <thead>\n",
       "    <tr style=\"text-align: right;\">\n",
       "      <th></th>\n",
       "      <th>2311</th>\n",
       "      <th>1607</th>\n",
       "      <th>1608</th>\n",
       "      <th>1609</th>\n",
       "      <th>1610</th>\n",
       "    </tr>\n",
       "  </thead>\n",
       "  <tbody>\n",
       "    <tr>\n",
       "      <th>Fairway Percentage</th>\n",
       "      <td>61.430</td>\n",
       "      <td>62.16</td>\n",
       "      <td>62.06</td>\n",
       "      <td>61.96</td>\n",
       "      <td>61.90</td>\n",
       "    </tr>\n",
       "    <tr>\n",
       "      <th>Avg Distance</th>\n",
       "      <td>290.550</td>\n",
       "      <td>283.10</td>\n",
       "      <td>290.90</td>\n",
       "      <td>290.60</td>\n",
       "      <td>286.20</td>\n",
       "    </tr>\n",
       "    <tr>\n",
       "      <th>gir</th>\n",
       "      <td>65.790</td>\n",
       "      <td>67.80</td>\n",
       "      <td>64.75</td>\n",
       "      <td>67.49</td>\n",
       "      <td>65.52</td>\n",
       "    </tr>\n",
       "    <tr>\n",
       "      <th>Average Putts</th>\n",
       "      <td>29.140</td>\n",
       "      <td>28.93</td>\n",
       "      <td>28.93</td>\n",
       "      <td>29.53</td>\n",
       "      <td>30.03</td>\n",
       "    </tr>\n",
       "    <tr>\n",
       "      <th>Average Scrambling</th>\n",
       "      <td>58.275</td>\n",
       "      <td>63.20</td>\n",
       "      <td>57.61</td>\n",
       "      <td>56.33</td>\n",
       "      <td>50.38</td>\n",
       "    </tr>\n",
       "    <tr>\n",
       "      <th>Best</th>\n",
       "      <td>3.000</td>\n",
       "      <td>4.00</td>\n",
       "      <td>2.00</td>\n",
       "      <td>3.00</td>\n",
       "      <td>3.00</td>\n",
       "    </tr>\n",
       "    <tr>\n",
       "      <th>Year</th>\n",
       "      <td>2010.000</td>\n",
       "      <td>2010.00</td>\n",
       "      <td>2010.00</td>\n",
       "      <td>2010.00</td>\n",
       "      <td>2010.00</td>\n",
       "    </tr>\n",
       "  </tbody>\n",
       "</table>\n",
       "</div>"
      ],
      "text/plain": [
       "                        2311     1607     1608     1609     1610\n",
       "Fairway Percentage    61.430    62.16    62.06    61.96    61.90\n",
       "Avg Distance         290.550   283.10   290.90   290.60   286.20\n",
       "gir                   65.790    67.80    64.75    67.49    65.52\n",
       "Average Putts         29.140    28.93    28.93    29.53    30.03\n",
       "Average Scrambling    58.275    63.20    57.61    56.33    50.38\n",
       "Best                   3.000     4.00     2.00     3.00     3.00\n",
       "Year                2010.000  2010.00  2010.00  2010.00  2010.00"
      ]
     },
     "execution_count": 344,
     "metadata": {},
     "output_type": "execute_result"
    }
   ],
   "source": [
    "# We'll drop all categories but the following: Fairway Percentage, Avg Distance, gir, Average Putts, Average Scrambling. We'll keep Year to split the data. This will be our X Data.\n",
    "# We'll keep the Best category as are True Label (y target)\n",
    "\n",
    "df2 = df_tmp[[\"Fairway Percentage\", \"Avg Distance\", \"gir\", \"Average Putts\", \"Average Scrambling\", \"Best\", \"Year\"]]\n",
    "df2.head().T"
   ]
  },
  {
   "cell_type": "code",
   "execution_count": 345,
   "metadata": {},
   "outputs": [
    {
     "name": "stdout",
     "output_type": "stream",
     "text": [
      "<class 'pandas.core.frame.DataFrame'>\n",
      "Int64Index: 2312 entries, 2311 to 0\n",
      "Data columns (total 7 columns):\n",
      " #   Column              Non-Null Count  Dtype  \n",
      "---  ------              --------------  -----  \n",
      " 0   Fairway Percentage  2312 non-null   float64\n",
      " 1   Avg Distance        2312 non-null   float64\n",
      " 2   gir                 2312 non-null   float64\n",
      " 3   Average Putts       2312 non-null   float64\n",
      " 4   Average Scrambling  2312 non-null   float64\n",
      " 5   Best                2312 non-null   float64\n",
      " 6   Year                2312 non-null   int64  \n",
      "dtypes: float64(6), int64(1)\n",
      "memory usage: 144.5 KB\n"
     ]
    }
   ],
   "source": [
    "# Let's check our categories are still numerical\n",
    "df2.info()"
   ]
  },
  {
   "cell_type": "code",
   "execution_count": 346,
   "metadata": {},
   "outputs": [
    {
     "data": {
      "text/plain": [
       "2312"
      ]
     },
     "execution_count": 346,
     "metadata": {},
     "output_type": "execute_result"
    }
   ],
   "source": [
    "len(df2)"
   ]
  },
  {
   "cell_type": "code",
   "execution_count": 347,
   "metadata": {},
   "outputs": [
    {
     "data": {
      "text/plain": [
       "2311    2010\n",
       "1607    2010\n",
       "1608    2010\n",
       "1609    2010\n",
       "1610    2010\n",
       "        ... \n",
       "166     2018\n",
       "165     2018\n",
       "164     2018\n",
       "179     2018\n",
       "0       2018\n",
       "Name: Year, Length: 2312, dtype: int64"
      ]
     },
     "execution_count": 347,
     "metadata": {},
     "output_type": "execute_result"
    }
   ],
   "source": [
    "df2.Year"
   ]
  },
  {
   "cell_type": "code",
   "execution_count": 348,
   "metadata": {},
   "outputs": [
    {
     "data": {
      "text/plain": [
       "2011    264\n",
       "2018    261\n",
       "2012    261\n",
       "2015    260\n",
       "2014    259\n",
       "2013    253\n",
       "2017    252\n",
       "2016    251\n",
       "2010    251\n",
       "Name: Year, dtype: int64"
      ]
     },
     "execution_count": 348,
     "metadata": {},
     "output_type": "execute_result"
    }
   ],
   "source": [
    "df2.Year.value_counts()"
   ]
  },
  {
   "cell_type": "markdown",
   "metadata": {},
   "source": [
    "## Splitting data into train & test sets"
   ]
  },
  {
   "cell_type": "code",
   "execution_count": 349,
   "metadata": {},
   "outputs": [],
   "source": [
    "# Split data into X and y\n",
    "X = df2.drop(\"Best\", axis=1)\n",
    "\n",
    "y = df2[\"Best\"]"
   ]
  },
  {
   "cell_type": "code",
   "execution_count": 350,
   "metadata": {},
   "outputs": [
    {
     "data": {
      "text/html": [
       "<div>\n",
       "<style scoped>\n",
       "    .dataframe tbody tr th:only-of-type {\n",
       "        vertical-align: middle;\n",
       "    }\n",
       "\n",
       "    .dataframe tbody tr th {\n",
       "        vertical-align: top;\n",
       "    }\n",
       "\n",
       "    .dataframe thead th {\n",
       "        text-align: right;\n",
       "    }\n",
       "</style>\n",
       "<table border=\"1\" class=\"dataframe\">\n",
       "  <thead>\n",
       "    <tr style=\"text-align: right;\">\n",
       "      <th></th>\n",
       "      <th>2311</th>\n",
       "      <th>1607</th>\n",
       "      <th>1608</th>\n",
       "      <th>1609</th>\n",
       "      <th>1610</th>\n",
       "    </tr>\n",
       "  </thead>\n",
       "  <tbody>\n",
       "    <tr>\n",
       "      <th>Fairway Percentage</th>\n",
       "      <td>61.430</td>\n",
       "      <td>62.16</td>\n",
       "      <td>62.06</td>\n",
       "      <td>61.96</td>\n",
       "      <td>61.90</td>\n",
       "    </tr>\n",
       "    <tr>\n",
       "      <th>Avg Distance</th>\n",
       "      <td>290.550</td>\n",
       "      <td>283.10</td>\n",
       "      <td>290.90</td>\n",
       "      <td>290.60</td>\n",
       "      <td>286.20</td>\n",
       "    </tr>\n",
       "    <tr>\n",
       "      <th>gir</th>\n",
       "      <td>65.790</td>\n",
       "      <td>67.80</td>\n",
       "      <td>64.75</td>\n",
       "      <td>67.49</td>\n",
       "      <td>65.52</td>\n",
       "    </tr>\n",
       "    <tr>\n",
       "      <th>Average Putts</th>\n",
       "      <td>29.140</td>\n",
       "      <td>28.93</td>\n",
       "      <td>28.93</td>\n",
       "      <td>29.53</td>\n",
       "      <td>30.03</td>\n",
       "    </tr>\n",
       "    <tr>\n",
       "      <th>Average Scrambling</th>\n",
       "      <td>58.275</td>\n",
       "      <td>63.20</td>\n",
       "      <td>57.61</td>\n",
       "      <td>56.33</td>\n",
       "      <td>50.38</td>\n",
       "    </tr>\n",
       "    <tr>\n",
       "      <th>Year</th>\n",
       "      <td>2010.000</td>\n",
       "      <td>2010.00</td>\n",
       "      <td>2010.00</td>\n",
       "      <td>2010.00</td>\n",
       "      <td>2010.00</td>\n",
       "    </tr>\n",
       "  </tbody>\n",
       "</table>\n",
       "</div>"
      ],
      "text/plain": [
       "                        2311     1607     1608     1609     1610\n",
       "Fairway Percentage    61.430    62.16    62.06    61.96    61.90\n",
       "Avg Distance         290.550   283.10   290.90   290.60   286.20\n",
       "gir                   65.790    67.80    64.75    67.49    65.52\n",
       "Average Putts         29.140    28.93    28.93    29.53    30.03\n",
       "Average Scrambling    58.275    63.20    57.61    56.33    50.38\n",
       "Year                2010.000  2010.00  2010.00  2010.00  2010.00"
      ]
     },
     "execution_count": 350,
     "metadata": {},
     "output_type": "execute_result"
    }
   ],
   "source": [
    "X.head().T"
   ]
  },
  {
   "cell_type": "code",
   "execution_count": 351,
   "metadata": {},
   "outputs": [
    {
     "data": {
      "text/plain": [
       "2311    3.0\n",
       "1607    4.0\n",
       "1608    2.0\n",
       "1609    3.0\n",
       "1610    3.0\n",
       "Name: Best, dtype: float64"
      ]
     },
     "execution_count": 351,
     "metadata": {},
     "output_type": "execute_result"
    }
   ],
   "source": [
    "y.head().T"
   ]
  },
  {
   "cell_type": "code",
   "execution_count": 352,
   "metadata": {},
   "outputs": [
    {
     "data": {
      "text/plain": [
       "(2312, 2312)"
      ]
     },
     "execution_count": 352,
     "metadata": {},
     "output_type": "execute_result"
    }
   ],
   "source": [
    "len(X), len(y)"
   ]
  },
  {
   "cell_type": "markdown",
   "metadata": {},
   "source": [
    "## Modelling"
   ]
  },
  {
   "cell_type": "code",
   "execution_count": 353,
   "metadata": {},
   "outputs": [],
   "source": [
    "# Fitting the model to the training data\n",
    "from sklearn.model_selection import train_test_split\n",
    "\n",
    "X_train, X_test, y_train, y_test = train_test_split(X, y, test_size=0.2)"
   ]
  },
  {
   "cell_type": "code",
   "execution_count": 354,
   "metadata": {},
   "outputs": [
    {
     "name": "stdout",
     "output_type": "stream",
     "text": [
      "Wall time: 670 ms\n"
     ]
    },
    {
     "data": {
      "text/plain": [
       "RandomForestRegressor(n_jobs=-1, random_state=42)"
      ]
     },
     "execution_count": 354,
     "metadata": {},
     "output_type": "execute_result"
    }
   ],
   "source": [
    "%%time\n",
    "# Instantiate model\n",
    "model = RandomForestRegressor(n_jobs=-1,\n",
    "                              random_state=42)\n",
    "\n",
    "# Fit the model\n",
    "model.fit(X_train, y_train)"
   ]
  },
  {
   "cell_type": "code",
   "execution_count": 355,
   "metadata": {},
   "outputs": [
    {
     "data": {
      "text/plain": [
       "0.9067168534368923"
      ]
     },
     "execution_count": 355,
     "metadata": {},
     "output_type": "execute_result"
    }
   ],
   "source": [
    "# Score the model\n",
    "model.score(X_train, y_train)"
   ]
  },
  {
   "cell_type": "markdown",
   "metadata": {},
   "source": [
    "## Test Set for df2"
   ]
  },
  {
   "cell_type": "code",
   "execution_count": 357,
   "metadata": {},
   "outputs": [
    {
     "data": {
      "text/plain": [
       "RandomForestRegressor(n_jobs=-1, random_state=42)"
      ]
     },
     "execution_count": 357,
     "metadata": {},
     "output_type": "execute_result"
    }
   ],
   "source": [
    "model.fit(X_test, y_test)"
   ]
  },
  {
   "cell_type": "code",
   "execution_count": 358,
   "metadata": {},
   "outputs": [
    {
     "data": {
      "text/plain": [
       "0.8790534523926825"
      ]
     },
     "execution_count": 358,
     "metadata": {},
     "output_type": "execute_result"
    }
   ],
   "source": [
    "model.score(X_test, y_test)"
   ]
  },
  {
   "cell_type": "markdown",
   "metadata": {},
   "source": [
    "## Split Data into Train and Validation Sets"
   ]
  },
  {
   "cell_type": "code",
   "execution_count": 359,
   "metadata": {},
   "outputs": [
    {
     "data": {
      "text/plain": [
       "2311    2010\n",
       "1607    2010\n",
       "1608    2010\n",
       "1609    2010\n",
       "1610    2010\n",
       "        ... \n",
       "166     2018\n",
       "165     2018\n",
       "164     2018\n",
       "179     2018\n",
       "0       2018\n",
       "Name: Year, Length: 2312, dtype: int64"
      ]
     },
     "execution_count": 359,
     "metadata": {},
     "output_type": "execute_result"
    }
   ],
   "source": [
    "df2.Year"
   ]
  },
  {
   "cell_type": "code",
   "execution_count": 360,
   "metadata": {},
   "outputs": [
    {
     "data": {
      "text/plain": [
       "2011    264\n",
       "2018    261\n",
       "2012    261\n",
       "2015    260\n",
       "2014    259\n",
       "2013    253\n",
       "2017    252\n",
       "2016    251\n",
       "2010    251\n",
       "Name: Year, dtype: int64"
      ]
     },
     "execution_count": 360,
     "metadata": {},
     "output_type": "execute_result"
    }
   ],
   "source": [
    "df2.Year.value_counts()"
   ]
  },
  {
   "cell_type": "code",
   "execution_count": 362,
   "metadata": {},
   "outputs": [
    {
     "data": {
      "text/plain": [
       "(251, 2061)"
      ]
     },
     "execution_count": 362,
     "metadata": {},
     "output_type": "execute_result"
    }
   ],
   "source": [
    "# Split data into training and validation\n",
    "df2_val = df2[df2.Year == 2010]\n",
    "df2_train = df2[df2.Year != 2010]\n",
    "\n",
    "len(df2_val), len(df2_train)"
   ]
  },
  {
   "cell_type": "code",
   "execution_count": 363,
   "metadata": {},
   "outputs": [
    {
     "data": {
      "text/plain": [
       "((2061, 6), (2061,), (251, 6), (251,))"
      ]
     },
     "execution_count": 363,
     "metadata": {},
     "output_type": "execute_result"
    }
   ],
   "source": [
    "# Split data into X & y\n",
    "X_train, y_train = df2_train.drop(\"Best\", axis=1), df2_train.Best\n",
    "X_valid, y_valid = df2_val.drop(\"Best\", axis=1), df2_val.Best\n",
    "\n",
    "X_train.shape, y_train.shape, X_valid.shape, y_valid.shape"
   ]
  },
  {
   "cell_type": "code",
   "execution_count": 364,
   "metadata": {},
   "outputs": [
    {
     "data": {
      "text/plain": [
       "1435    10.0\n",
       "1420     2.0\n",
       "1419     5.0\n",
       "1418     3.0\n",
       "1417     4.0\n",
       "        ... \n",
       "166      3.0\n",
       "165      2.0\n",
       "164      6.0\n",
       "179      3.0\n",
       "0        6.0\n",
       "Name: Best, Length: 2061, dtype: float64"
      ]
     },
     "execution_count": 364,
     "metadata": {},
     "output_type": "execute_result"
    }
   ],
   "source": [
    "y_train"
   ]
  },
  {
   "cell_type": "code",
   "execution_count": 365,
   "metadata": {},
   "outputs": [],
   "source": [
    "# Re-Create an evaluation function\n",
    "from sklearn.metrics import mean_squared_log_error, mean_absolute_error, r2_score\n",
    "\n",
    "def rmsle(y_test, y_preds):\n",
    "    \"\"\"\n",
    "    Calculates root mean squared log error between predictions and True labels.\n",
    "    \"\"\"\n",
    "    return np.sqrt(mean_squared_log_error(y_test, y_preds))\n",
    "\n",
    "# Create function to evaluate model on a few different levels\n",
    "def show_scores(model):\n",
    "    train_preds = model.predict(X_train)\n",
    "    val_preds = model.predict(X_valid)\n",
    "    scores = {\"Training MAE\": mean_absolute_error(y_train, train_preds),\n",
    "              \"Valid MAE\": mean_absolute_error(y_valid, val_preds),\n",
    "             \"Training RMSLE\": rmsle(y_train, train_preds),\n",
    "              \"Valid RMSLE\": rmsle(y_valid, val_preds),\n",
    "             \"Training R^2\": r2_score(y_train, train_preds),\n",
    "             \"Valid R^2\": r2_score(y_valid, val_preds)}\n",
    "    return scores"
   ]
  },
  {
   "cell_type": "code",
   "execution_count": 366,
   "metadata": {},
   "outputs": [
    {
     "data": {
      "text/plain": [
       "{'Training MAE': 0.7883566982786094,\n",
       " 'Valid MAE': 0.8142629482071713,\n",
       " 'Training RMSLE': 0.2362640922811613,\n",
       " 'Valid RMSLE': 0.2583936797334076,\n",
       " 'Training R^2': 0.4308736834538579,\n",
       " 'Valid R^2': 0.17838864687525025}"
      ]
     },
     "execution_count": 366,
     "metadata": {},
     "output_type": "execute_result"
    }
   ],
   "source": [
    "show_scores(model)"
   ]
  },
  {
   "cell_type": "markdown",
   "metadata": {},
   "source": [
    "## Again RamdomizedSearchCV Hyperparameters re-tuning"
   ]
  },
  {
   "cell_type": "code",
   "execution_count": 367,
   "metadata": {},
   "outputs": [
    {
     "name": "stdout",
     "output_type": "stream",
     "text": [
      "Fitting 5 folds for each of 20 candidates, totalling 100 fits\n"
     ]
    },
    {
     "name": "stderr",
     "output_type": "stream",
     "text": [
      "[Parallel(n_jobs=1)]: Using backend SequentialBackend with 1 concurrent workers.\n"
     ]
    },
    {
     "name": "stdout",
     "output_type": "stream",
     "text": [
      "Wall time: 7.01 s\n"
     ]
    },
    {
     "name": "stderr",
     "output_type": "stream",
     "text": [
      "[Parallel(n_jobs=1)]: Done 100 out of 100 | elapsed:    6.8s finished\n"
     ]
    },
    {
     "data": {
      "text/plain": [
       "RandomizedSearchCV(cv=5,\n",
       "                   estimator=RandomForestRegressor(n_jobs=1, random_state=42),\n",
       "                   n_iter=20,\n",
       "                   param_distributions={'max_depth': [None, 3, 5, 10],\n",
       "                                        'max_features': [0.5, 1, 'sqrt',\n",
       "                                                         'auto'],\n",
       "                                        'max_samples': [1000],\n",
       "                                        'min_samples_leaf': array([ 1,  3,  5,  7,  9, 11, 13, 15, 17, 19]),\n",
       "                                        'min_samples_split': array([ 2,  4,  6,  8, 10, 12, 14, 16, 18]),\n",
       "                                        'n_estimators': array([ 5, 15, 25, 35, 45])},\n",
       "                   verbose=True)"
      ]
     },
     "execution_count": 367,
     "metadata": {},
     "output_type": "execute_result"
    }
   ],
   "source": [
    "%%time\n",
    "from sklearn.model_selection import RandomizedSearchCV\n",
    "\n",
    "# Different RandomizedForestRegressor hyperparameters\n",
    "rf_grid = {\"n_estimators\": np.arange(5,50,10),\n",
    "          \"max_depth\": [None, 3,5,10],\n",
    "          \"min_samples_split\": np.arange(2,20,2),\n",
    "          \"min_samples_leaf\": np.arange(1,20,2),\n",
    "          \"max_features\": [0.5,1, \"sqrt\", \"auto\"],\n",
    "          \"max_samples\": [1000]}\n",
    "\n",
    "# Instantiate RandomizedSearchCV model\n",
    "rs_model = RandomizedSearchCV(RandomForestRegressor(n_jobs=1,\n",
    "                                                   random_state=42),\n",
    "                              param_distributions=rf_grid,\n",
    "                              n_iter=20,\n",
    "                              cv=5,\n",
    "                              verbose=True)\n",
    "\n",
    "# Fit the RandomizedSearchCV model\n",
    "rs_model.fit(X_train, y_train)"
   ]
  },
  {
   "cell_type": "code",
   "execution_count": 368,
   "metadata": {},
   "outputs": [
    {
     "data": {
      "text/plain": [
       "{'n_estimators': 25,\n",
       " 'min_samples_split': 10,\n",
       " 'min_samples_leaf': 1,\n",
       " 'max_samples': 1000,\n",
       " 'max_features': 0.5,\n",
       " 'max_depth': None}"
      ]
     },
     "execution_count": 368,
     "metadata": {},
     "output_type": "execute_result"
    }
   ],
   "source": [
    "# Find the best model hyperparameters\n",
    "rs_model.best_params_"
   ]
  },
  {
   "cell_type": "code",
   "execution_count": 369,
   "metadata": {},
   "outputs": [
    {
     "data": {
      "text/plain": [
       "{'Training MAE': 0.635628242947034,\n",
       " 'Valid MAE': 0.9530520047199501,\n",
       " 'Training RMSLE': 0.1862815212118416,\n",
       " 'Valid RMSLE': 0.284883347709453,\n",
       " 'Training R^2': 0.6642086864490764,\n",
       " 'Valid R^2': 0.07263419162098872}"
      ]
     },
     "execution_count": 369,
     "metadata": {},
     "output_type": "execute_result"
    }
   ],
   "source": [
    "# Evaluate the RandomizedSearch model\n",
    "show_scores(rs_model)"
   ]
  },
  {
   "cell_type": "markdown",
   "metadata": {},
   "source": [
    "## Train a model with the best hyperparameters\n",
    "**Note:** These were found after 20 iterations of RandomizedSearchCV"
   ]
  },
  {
   "cell_type": "code",
   "execution_count": 370,
   "metadata": {},
   "outputs": [
    {
     "name": "stdout",
     "output_type": "stream",
     "text": [
      "Wall time: 103 ms\n"
     ]
    },
    {
     "data": {
      "text/plain": [
       "RandomForestRegressor(max_features=0.5, max_samples=1000, min_samples_split=10,\n",
       "                      n_estimators=25, n_jobs=1, random_state=42)"
      ]
     },
     "execution_count": 370,
     "metadata": {},
     "output_type": "execute_result"
    }
   ],
   "source": [
    "%%time\n",
    "\n",
    "# Most ideal hyperparamters\n",
    "ideal_model = RandomForestRegressor(n_estimators=25,\n",
    "                                       min_samples_leaf=1,\n",
    "                                       min_samples_split=10,\n",
    "                                       max_features=0.5,\n",
    "                                       n_jobs=1,\n",
    "                                       max_samples=1000,\n",
    "                                       max_depth=None,\n",
    "                                       random_state=42)\n",
    "\n",
    "# Fit the ideal model\n",
    "ideal_model.fit(X_train, y_train)"
   ]
  },
  {
   "cell_type": "code",
   "execution_count": 371,
   "metadata": {},
   "outputs": [
    {
     "data": {
      "text/plain": [
       "{'Training MAE': 0.635628242947034,\n",
       " 'Valid MAE': 0.9530520047199501,\n",
       " 'Training RMSLE': 0.1862815212118416,\n",
       " 'Valid RMSLE': 0.284883347709453,\n",
       " 'Training R^2': 0.6642086864490764,\n",
       " 'Valid R^2': 0.07263419162098872}"
      ]
     },
     "execution_count": 371,
     "metadata": {},
     "output_type": "execute_result"
    }
   ],
   "source": [
    "# Scores for ideal_model (trained on all the data)\n",
    "show_scores(ideal_model)"
   ]
  },
  {
   "cell_type": "code",
   "execution_count": 372,
   "metadata": {},
   "outputs": [
    {
     "data": {
      "text/plain": [
       "{'Training MAE': 0.635628242947034,\n",
       " 'Valid MAE': 0.9530520047199501,\n",
       " 'Training RMSLE': 0.1862815212118416,\n",
       " 'Valid RMSLE': 0.284883347709453,\n",
       " 'Training R^2': 0.6642086864490764,\n",
       " 'Valid R^2': 0.07263419162098872}"
      ]
     },
     "execution_count": 372,
     "metadata": {},
     "output_type": "execute_result"
    }
   ],
   "source": [
    "# Scores on rs_model\n",
    "show_scores(rs_model)"
   ]
  },
  {
   "cell_type": "code",
   "execution_count": 373,
   "metadata": {},
   "outputs": [
    {
     "data": {
      "text/plain": [
       "array([2.88196596, 6.99118759, 3.90272439, ..., 4.3461746 , 4.23331524,\n",
       "       4.62965079])"
      ]
     },
     "execution_count": 373,
     "metadata": {},
     "output_type": "execute_result"
    }
   ],
   "source": [
    "# Make predictions on the test data\n",
    "test_preds_X = ideal_model.predict(X)\n",
    "test_preds_X"
   ]
  },
  {
   "cell_type": "code",
   "execution_count": 374,
   "metadata": {},
   "outputs": [
    {
     "data": {
      "text/plain": [
       "(2312, 6)"
      ]
     },
     "execution_count": 374,
     "metadata": {},
     "output_type": "execute_result"
    }
   ],
   "source": [
    "X.shape"
   ]
  },
  {
   "cell_type": "code",
   "execution_count": 375,
   "metadata": {},
   "outputs": [
    {
     "data": {
      "text/plain": [
       "(2312,)"
      ]
     },
     "execution_count": 375,
     "metadata": {},
     "output_type": "execute_result"
    }
   ],
   "source": [
    "y.shape"
   ]
  },
  {
   "cell_type": "code",
   "execution_count": 376,
   "metadata": {},
   "outputs": [
    {
     "data": {
      "text/plain": [
       "array([0.08720855, 0.17802375, 0.26743712, 0.24233218, 0.19292924,\n",
       "       0.03206916])"
      ]
     },
     "execution_count": 376,
     "metadata": {},
     "output_type": "execute_result"
    }
   ],
   "source": [
    "ideal_model.feature_importances_"
   ]
  },
  {
   "cell_type": "code",
   "execution_count": 377,
   "metadata": {},
   "outputs": [],
   "source": [
    "# Helper function for plotting feature importance\n",
    "def plot_features(columns, importances, n=6):\n",
    "    df2 = (pd.DataFrame({\"features\": columns,\n",
    "                       \"feature_importances\": importances})\n",
    "         .sort_values(\"feature_importances\", ascending=False)\n",
    "         .reset_index(drop=True))\n",
    "    \n",
    "    # Plot the dataframe\n",
    "    fig, ax = plt.subplots()\n",
    "    ax.barh(df2[\"features\"][:n], df2[\"feature_importances\"][:6])\n",
    "    ax.set_ylabel(\"Features\")\n",
    "    ax.set_xlabel(\"Feature importance\")\n",
    "    ax.invert_yaxis()"
   ]
  },
  {
   "cell_type": "code",
   "execution_count": 378,
   "metadata": {},
   "outputs": [
    {
     "data": {
      "image/png": "[encoded data removed]",
      "text/plain": [
       "<Figure size 432x288 with 1 Axes>"
      ]
     },
     "metadata": {
      "needs_background": "light"
     },
     "output_type": "display_data"
    }
   ],
   "source": [
    "plot_features(X_train.columns, ideal_model.feature_importances_)"
   ]
  },
  {
   "cell_type": "markdown",
   "metadata": {},
   "source": [
    "# According to the final model, gir(greens in regulation) are the most important feature when determing Wins and Top_10 finishes.\n",
    "## Followed closely by Average Putts. Surprisingly, Fairway percentage was rather low."
   ]
  }
 ],
 "metadata": {
  "kernelspec": {
   "display_name": "Python 3",
   "language": "python",
   "name": "python3"
  },
  "language_info": {
   "codemirror_mode": {
    "name": "ipython",
    "version": 3
   },
   "file_extension": ".py",
   "mimetype": "text/x-python",
   "name": "python",
   "nbconvert_exporter": "python",
   "pygments_lexer": "ipython3",
   "version": "3.7.7"
  }
 },
 "nbformat": 4,
 "nbformat_minor": 4
}
